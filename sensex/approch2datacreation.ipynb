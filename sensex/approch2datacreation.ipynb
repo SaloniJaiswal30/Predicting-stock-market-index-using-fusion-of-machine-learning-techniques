{
 "cells": [
  {
   "cell_type": "code",
   "execution_count": 11,
   "metadata": {},
   "outputs": [],
   "source": [
    "from tensorflow.python.keras.models import Sequential\n",
    "from tensorflow.python.keras.layers import Dense, Activation\n",
    "import pandas as pd\n",
    "import numpy as np\n",
    "import csv"
   ]
  },
  {
   "cell_type": "code",
   "execution_count": 12,
   "metadata": {},
   "outputs": [],
   "source": [
    "data1 = pd.read_csv('paramdataset.csv', header=None)\n",
    "data2 = pd.read_csv('sensexdata.csv', header=None)"
   ]
  },
  {
   "cell_type": "code",
   "execution_count": 13,
   "metadata": {},
   "outputs": [],
   "source": [
    "train_x=data1.iloc[:2452,12]\n",
    "train_x=np.array(train_x).reshape(-1,1)\n",
    "train_y=data1.iloc[:2452,1]\n",
    "test_x=data1.iloc[2452:2455,12]\n",
    "test_x=list(test_x)\n",
    "test_x=np.array(test_x).reshape(-1,1)\n",
    "test_y=data1.iloc[2452:2455,1]"
   ]
  },
  {
   "cell_type": "code",
   "execution_count": 14,
   "metadata": {},
   "outputs": [],
   "source": [
    "def svr_model(train_x, train_y, test_x,y):\n",
    "    from sklearn.svm import SVR\n",
    "    import numpy as np\n",
    "\n",
    "    clf = SVR(C=1.0, epsilon=2.0, gamma=y,verbose=False)\n",
    "    clf.fit(train_x, train_y)\n",
    "    predicted_y = clf.predict(test_x)\n",
    "    print(predicted_y)\n",
    "    return predicted_y"
   ]
  },
  {
   "cell_type": "code",
   "execution_count": 15,
   "metadata": {},
   "outputs": [
    {
     "name": "stdout",
     "output_type": "stream",
     "text": [
      "[14483.37226189 14482.07314994 14478.97097587]\n",
      "[14483.37226189 14482.07314994 14478.97097587]\n",
      "2452    18835.695\n",
      "2453    18941.949\n",
      "2454    19044.591\n",
      "Name: 1, dtype: float64\n"
     ]
    }
   ],
   "source": [
    "predict_svr1=svr_model(train_x, train_y, test_x,2e-8)\n",
    "print(predict_svr1)\n",
    "print(test_y)"
   ]
  },
  {
   "cell_type": "code",
   "execution_count": 16,
   "metadata": {},
   "outputs": [],
   "source": [
    "train_x=data1.iloc[:2452,12]\n",
    "train_x=np.array(train_x).reshape(-1,1)\n",
    "train_y=data1.iloc[:2452,2]\n",
    "test_x=data1.iloc[2452:2455,12]\n",
    "#test_x=list(test_x)\n",
    "test_x=np.array(test_x).reshape(-1,1)\n",
    "test_y=data1.iloc[2452:2455,2]"
   ]
  },
  {
   "cell_type": "code",
   "execution_count": 17,
   "metadata": {},
   "outputs": [
    {
     "name": "stdout",
     "output_type": "stream",
     "text": [
      "[14484.08544195 14482.78393041 14479.67580043]\n",
      "[14484.08544195 14482.78393041 14479.67580043]\n",
      "2452    19031.10109\n",
      "2453    19132.22200\n",
      "2454    19231.28582\n",
      "Name: 2, dtype: float64\n"
     ]
    }
   ],
   "source": [
    "predict_svr2=svr_model(train_x, train_y, test_x,2e-8)\n",
    "print(predict_svr2)\n",
    "print(test_y)\n",
    "\n",
    "#print(p)"
   ]
  },
  {
   "cell_type": "code",
   "execution_count": 18,
   "metadata": {},
   "outputs": [],
   "source": [
    "predict_svr3=data1.iloc[2452:2455,3]"
   ]
  },
  {
   "cell_type": "code",
   "execution_count": 19,
   "metadata": {},
   "outputs": [],
   "source": [
    "train_x=data2.iloc[27:2479,2:5]\n",
    "train_y=data1.iloc[:2452,4]\n",
    "test_x=data2.iloc[2479:2482,2:5]\n",
    "test_y=data1.iloc[2452:2455,4]"
   ]
  },
  {
   "cell_type": "code",
   "execution_count": 20,
   "metadata": {},
   "outputs": [
    {
     "name": "stdout",
     "output_type": "stream",
     "text": [
      "[63.04302331 64.56540189 63.9811429 ]\n",
      "[63.04302331 64.56540189 63.9811429 ]\n",
      "2452    94.113340\n",
      "2453    93.810688\n",
      "2454    96.748062\n",
      "Name: 4, dtype: float64\n"
     ]
    }
   ],
   "source": [
    "predict_svr4=svr_model(train_x, train_y, test_x,100e-8)\n",
    "print(predict_svr4)\n",
    "print(test_y)"
   ]
  },
  {
   "cell_type": "code",
   "execution_count": 21,
   "metadata": {},
   "outputs": [],
   "source": [
    "train_x=data2.iloc[27:2479,2:5]\n",
    "train_y=data1.iloc[:2452,5]\n",
    "test_x=data2.iloc[2479:2482,2:5]\n",
    "test_y=data1.iloc[2452:2455,5]"
   ]
  },
  {
   "cell_type": "code",
   "execution_count": 22,
   "metadata": {},
   "outputs": [
    {
     "name": "stdout",
     "output_type": "stream",
     "text": [
      "[58.72040902 59.29901547 59.21853399]\n",
      "[58.72040902 59.29901547 59.21853399]\n",
      "2452    65.040676\n",
      "2453    73.395886\n",
      "2454    80.218824\n",
      "Name: 5, dtype: float64\n"
     ]
    }
   ],
   "source": [
    "predict_svr5=svr_model(train_x, train_y, test_x,100e-8)\n",
    "print(predict_svr5)\n",
    "print(test_y)"
   ]
  },
  {
   "cell_type": "code",
   "execution_count": 23,
   "metadata": {},
   "outputs": [],
   "source": [
    "train_x=data2.iloc[27:2452,5:7]\n",
    "train_y=data1.iloc[27:2452,7]\n",
    "test_x=data2.iloc[2452:2455,5:7]\n",
    "test_y=data1.iloc[2452:2455,7]"
   ]
  },
  {
   "cell_type": "code",
   "execution_count": 24,
   "metadata": {},
   "outputs": [
    {
     "name": "stdout",
     "output_type": "stream",
     "text": [
      "[46.96733453 46.30258442 45.57123334]\n",
      "[46.96733453 46.30258442 45.57123334]\n",
      "2452    134.142923\n",
      "2453    163.439463\n",
      "2454    188.761871\n",
      "Name: 7, dtype: float64\n"
     ]
    }
   ],
   "source": [
    "predict_svr7=svr_model(train_x, train_y, test_x,40e-8)\n",
    "print(predict_svr7)\n",
    "print(test_y)"
   ]
  },
  {
   "cell_type": "code",
   "execution_count": 25,
   "metadata": {},
   "outputs": [],
   "source": [
    "train_x=data1.iloc[:2452,3]\n",
    "train_x=np.array(train_x).reshape(-1,1)\n",
    "train_y=data1.iloc[:2452,5]\n",
    "test_x=data1.iloc[2452:2455,3]\n",
    "test_x=np.array(test_x).reshape(-1,1)\n",
    "test_y=data1.iloc[2452:2455,5]"
   ]
  },
  {
   "cell_type": "code",
   "execution_count": 26,
   "metadata": {},
   "outputs": [
    {
     "name": "stdout",
     "output_type": "stream",
     "text": [
      "[83.2504657  81.99428618 82.55718453]\n",
      "[83.2504657  81.99428618 82.55718453]\n",
      "2452    65.040676\n",
      "2453    73.395886\n",
      "2454    80.218824\n",
      "Name: 5, dtype: float64\n"
     ]
    }
   ],
   "source": [
    "predict_svr6=svr_model(train_x, train_y, test_x,10e-8)\n",
    "print(predict_svr6)\n",
    "print(test_y)"
   ]
  },
  {
   "cell_type": "code",
   "execution_count": 27,
   "metadata": {},
   "outputs": [],
   "source": [
    "train_x=data2.iloc[27:2479,2:5]\n",
    "train_y=data1.iloc[:2452,7]\n",
    "test_x=data2.iloc[2479:2482,2:5]\n",
    "test_y=data1.iloc[2452:2455,7]"
   ]
  },
  {
   "cell_type": "code",
   "execution_count": 28,
   "metadata": {},
   "outputs": [
    {
     "name": "stdout",
     "output_type": "stream",
     "text": [
      "[125.17975597 126.83584127 126.5972443 ]\n",
      "[125.17975597 126.83584127 126.5972443 ]\n",
      "2452    134.142923\n",
      "2453    163.439463\n",
      "2454    188.761871\n",
      "Name: 7, dtype: float64\n"
     ]
    }
   ],
   "source": [
    "predict_svr8=svr_model(train_x, train_y, test_x,10e-8)\n",
    "print(predict_svr8)\n",
    "print(test_y)"
   ]
  },
  {
   "cell_type": "code",
   "execution_count": 29,
   "metadata": {},
   "outputs": [],
   "source": [
    "predict_svr9=data1.iloc[2452:2455,9]"
   ]
  },
  {
   "cell_type": "code",
   "execution_count": 30,
   "metadata": {},
   "outputs": [],
   "source": [
    "predict_svr10=data1.iloc[2452:2455,10]"
   ]
  },
  {
   "cell_type": "code",
   "execution_count": 31,
   "metadata": {},
   "outputs": [
    {
     "name": "stdout",
     "output_type": "stream",
     "text": [
      "2452    96.224825\n",
      "2453    88.126593\n",
      "2454    72.974938\n",
      "Name: 10, dtype: float64\n"
     ]
    }
   ],
   "source": [
    "print(predict_svr10)\n",
    "p = pd.DataFrame(\n",
    "    {'A': predict_svr1,\n",
    "     'B': predict_svr2,\n",
    "     'C': predict_svr3,\n",
    "     'E': predict_svr4,\n",
    "     'F': predict_svr5,\n",
    "     'G': predict_svr6,\n",
    "     'H': predict_svr7,\n",
    "     'I': predict_svr8,\n",
    "     'J': predict_svr9,\n",
    "     'K': predict_svr10,\n",
    "    })\n",
    "p.to_csv('testdata.csv', sep=',')"
   ]
  },
  {
   "cell_type": "code",
   "execution_count": null,
   "metadata": {},
   "outputs": [],
   "source": []
  }
 ],
 "metadata": {
  "kernelspec": {
   "display_name": "Python 3",
   "language": "python",
   "name": "python3"
  },
  "language_info": {
   "codemirror_mode": {
    "name": "ipython",
    "version": 3
   },
   "file_extension": ".py",
   "mimetype": "text/x-python",
   "name": "python",
   "nbconvert_exporter": "python",
   "pygments_lexer": "ipython3",
   "version": "3.6.3"
  }
 },
 "nbformat": 4,
 "nbformat_minor": 2
}
