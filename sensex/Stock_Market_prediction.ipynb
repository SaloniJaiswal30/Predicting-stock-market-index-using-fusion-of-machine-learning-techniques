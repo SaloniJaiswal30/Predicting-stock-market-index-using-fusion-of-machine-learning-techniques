{
 "cells": [
  {
   "cell_type": "code",
   "execution_count": 112,
   "metadata": {
    "scrolled": true
   },
   "outputs": [],
   "source": [
    "import numpy as np \n",
    "import pandas as pd \n",
    "\n",
    "from subprocess import check_output\n",
    "from keras.layers.core import Dense, Activation, Dropout\n",
    "from keras.layers.recurrent import LSTM\n",
    "from keras.models import Sequential\n",
    "from sklearn.cross_validation import  train_test_split\n",
    "import time \n",
    "from sklearn.preprocessing import MinMaxScaler\n",
    "import matplotlib.pyplot as plt\n",
    "from numpy import newaxis\n",
    "from sklearn.metrics import mean_squared_error\n",
    "from math import sqrt"
   ]
  },
  {
   "cell_type": "code",
   "execution_count": 113,
   "metadata": {},
   "outputs": [],
   "source": [
    "prices_dataset =  pd.read_csv('paramdatasetlstm.csv', header=0)\n",
    "prices_dataset.head()\n",
    "param=prices_dataset.iloc[:2470,1:11]\n",
    "param = np.array(param).reshape(2470,10)\n",
    "result=prices_dataset.iloc[:2470,11]\n",
    "result = np.array(result).reshape(2470,1)"
   ]
  },
  {
   "cell_type": "code",
   "execution_count": 92,
   "metadata": {},
   "outputs": [],
   "source": [
    "n1 = param.shape[0]\n",
    "p1 = param.shape[1]\n",
    "n2 = result.shape[0]\n",
    "p2 = result.shape[1]\n",
    "# dataset = dataset.values\n",
    "#print(n1,n2)"
   ]
  },
  {
   "cell_type": "code",
   "execution_count": 93,
   "metadata": {},
   "outputs": [],
   "source": [
    "train_start = 0\n",
    "train_end = int(np.floor(0.8*n1))\n",
    "test_start = train_end\n",
    "test_end = n1\n",
    "param_train = param[np.arange(train_start, train_end), :]\n",
    "# print(data_train)\n",
    "param_test = param[np.arange(test_start, test_end), :]\n",
    "\n",
    "train_start = 0\n",
    "train_end = int(np.floor(0.8*n2))\n",
    "test_start = train_end\n",
    "test_end = n2\n",
    "\n",
    "result_train = result[np.arange(train_start, train_end), :]\n",
    "# print(data_train)\n",
    "result_test = result[np.arange(test_start, test_end), :]\n",
    "our_result = result[np.arange(test_start, test_end), :]"
   ]
  },
  {
   "cell_type": "code",
   "execution_count": 94,
   "metadata": {},
   "outputs": [
    {
     "data": {
      "text/plain": [
       "(1976, 10)"
      ]
     },
     "execution_count": 94,
     "metadata": {},
     "output_type": "execute_result"
    }
   ],
   "source": [
    "param_train.shape"
   ]
  },
  {
   "cell_type": "code",
   "execution_count": 95,
   "metadata": {},
   "outputs": [
    {
     "data": {
      "text/plain": [
       "(494, 10)"
      ]
     },
     "execution_count": 95,
     "metadata": {},
     "output_type": "execute_result"
    }
   ],
   "source": [
    "param_test.shape"
   ]
  },
  {
   "cell_type": "code",
   "execution_count": 96,
   "metadata": {
    "scrolled": true
   },
   "outputs": [],
   "source": [
    "# Scale data\n",
    "from sklearn.preprocessing import MinMaxScaler\n",
    "#print(param_train)\n",
    "\n",
    "scaler = MinMaxScaler()\n",
    "scaler.fit(param_train)\n",
    "scaler.fit(param_test)\n",
    "scaler.fit(result_train)\n",
    "scaler.fit(result_test)\n",
    "\n",
    "param_train = scaler.transform(param_train)\n",
    "param_test = scaler.transform(param_test)\n",
    "result_train = scaler.transform(result_train)\n",
    "result_test = scaler.transform(result_test)\n",
    "# Build X and y\n",
    "X_train = param_train\n",
    "y_train = result_train\n",
    "X_test = param_test\n",
    "y_test = result_test\n",
    "\n",
    "#print(len(X_test),len(y_test))\n"
   ]
  },
  {
   "cell_type": "code",
   "execution_count": 97,
   "metadata": {},
   "outputs": [
    {
     "data": {
      "text/plain": [
       "(1976, 10)"
      ]
     },
     "execution_count": 97,
     "metadata": {},
     "output_type": "execute_result"
    }
   ],
   "source": [
    "X_train.shape\n",
    "#y_test.shape"
   ]
  },
  {
   "cell_type": "code",
   "execution_count": 98,
   "metadata": {},
   "outputs": [
    {
     "data": {
      "text/plain": [
       "(1976, 1)"
      ]
     },
     "execution_count": 98,
     "metadata": {},
     "output_type": "execute_result"
    }
   ],
   "source": [
    "y_train.shape"
   ]
  },
  {
   "cell_type": "code",
   "execution_count": 99,
   "metadata": {},
   "outputs": [
    {
     "data": {
      "text/plain": [
       "(494, 10)"
      ]
     },
     "execution_count": 99,
     "metadata": {},
     "output_type": "execute_result"
    }
   ],
   "source": [
    "X_test.shape"
   ]
  },
  {
   "cell_type": "code",
   "execution_count": 100,
   "metadata": {},
   "outputs": [
    {
     "data": {
      "text/plain": [
       "(494, 1)"
      ]
     },
     "execution_count": 100,
     "metadata": {},
     "output_type": "execute_result"
    }
   ],
   "source": [
    "y_test.shape"
   ]
  },
  {
   "cell_type": "code",
   "execution_count": 101,
   "metadata": {},
   "outputs": [],
   "source": [
    "X_train = np.reshape(X_train, (X_train.shape[0], 1, X_train.shape[1]))\n",
    "X_test = np.reshape(X_test, (X_test.shape[0], 1, X_test.shape[1]))"
   ]
  },
  {
   "cell_type": "code",
   "execution_count": 102,
   "metadata": {},
   "outputs": [
    {
     "data": {
      "text/plain": [
       "(1976, 1, 10)"
      ]
     },
     "execution_count": 102,
     "metadata": {},
     "output_type": "execute_result"
    }
   ],
   "source": [
    "X_train.shape\n",
    "#layers=['1409','1','4']"
   ]
  },
  {
   "cell_type": "code",
   "execution_count": 103,
   "metadata": {},
   "outputs": [],
   "source": [
    "from keras import optimizers"
   ]
  },
  {
   "cell_type": "code",
   "execution_count": 104,
   "metadata": {},
   "outputs": [],
   "source": [
    "model = Sequential()\n",
    "model.add(LSTM(128, input_shape=(1, 10), return_sequences=True))\n",
    "model.add(Dropout(0.2))\n",
    "model.add(LSTM(64, input_shape=(1, 10), return_sequences=False))\n",
    "model.add(Dropout(0.2))\n",
    "model.add(Dense(16,activation='relu'))        \n",
    "model.add(Dense(1,activation='linear'))\n",
    "model.compile(loss='mse',optimizer='adam',metrics=['accuracy'])"
   ]
  },
  {
   "cell_type": "code",
   "execution_count": 105,
   "metadata": {
    "scrolled": true
   },
   "outputs": [
    {
     "name": "stderr",
     "output_type": "stream",
     "text": [
      "C:\\Users\\Saloni\\Anaconda3\\envs\\my_flask_env\\lib\\site-packages\\ipykernel_launcher.py:6: UserWarning: The `nb_epoch` argument in `fit` has been renamed `epochs`.\n",
      "  \n"
     ]
    },
    {
     "name": "stdout",
     "output_type": "stream",
     "text": [
      "Train on 1778 samples, validate on 198 samples\n",
      "Epoch 1/100\n",
      "1778/1778 [==============================] - 5s 3ms/step - loss: 1.1618 - acc: 0.0000e+00 - val_loss: 2.6907 - val_acc: 0.0000e+00\n",
      "Epoch 2/100\n",
      "1778/1778 [==============================] - 0s 155us/step - loss: 0.4277 - acc: 0.0000e+00 - val_loss: 0.4030 - val_acc: 0.0000e+00\n",
      "Epoch 3/100\n",
      "1778/1778 [==============================] - 0s 155us/step - loss: 0.0612 - acc: 0.0000e+00 - val_loss: 0.2033 - val_acc: 0.0000e+00\n",
      "Epoch 4/100\n",
      "1778/1778 [==============================] - 0s 160us/step - loss: 0.0363 - acc: 0.0000e+00 - val_loss: 0.0512 - val_acc: 0.0000e+00\n",
      "Epoch 5/100\n",
      "1778/1778 [==============================] - 0s 155us/step - loss: 0.0323 - acc: 0.0000e+00 - val_loss: 0.0458 - val_acc: 0.0000e+00\n",
      "Epoch 6/100\n",
      "1778/1778 [==============================] - 0s 153us/step - loss: 0.0270 - acc: 0.0000e+00 - val_loss: 0.0300 - val_acc: 0.0000e+00\n",
      "Epoch 7/100\n",
      "1778/1778 [==============================] - 0s 153us/step - loss: 0.0260 - acc: 0.0000e+00 - val_loss: 0.0215 - val_acc: 0.0000e+00\n",
      "Epoch 8/100\n",
      "1778/1778 [==============================] - 0s 156us/step - loss: 0.0254 - acc: 0.0000e+00 - val_loss: 0.0235 - val_acc: 0.0000e+00\n",
      "Epoch 9/100\n",
      "1778/1778 [==============================] - 0s 153us/step - loss: 0.0251 - acc: 0.0000e+00 - val_loss: 0.0223 - val_acc: 0.0000e+00\n",
      "Epoch 10/100\n",
      "1778/1778 [==============================] - 0s 158us/step - loss: 0.0233 - acc: 0.0000e+00 - val_loss: 0.0114 - val_acc: 0.0000e+00\n",
      "Epoch 11/100\n",
      "1778/1778 [==============================] - 0s 156us/step - loss: 0.0218 - acc: 0.0000e+00 - val_loss: 0.0103 - val_acc: 0.0000e+00\n",
      "Epoch 12/100\n",
      "1778/1778 [==============================] - 0s 156us/step - loss: 0.0219 - acc: 0.0000e+00 - val_loss: 0.0120 - val_acc: 0.0000e+00\n",
      "Epoch 13/100\n",
      "1778/1778 [==============================] - 0s 153us/step - loss: 0.0204 - acc: 0.0000e+00 - val_loss: 0.0093 - val_acc: 0.0000e+00\n",
      "Epoch 14/100\n",
      "1778/1778 [==============================] - 0s 154us/step - loss: 0.0182 - acc: 0.0000e+00 - val_loss: 0.0082 - val_acc: 0.0000e+00\n",
      "Epoch 15/100\n",
      "1778/1778 [==============================] - 0s 157us/step - loss: 0.0177 - acc: 0.0000e+00 - val_loss: 0.0083 - val_acc: 0.0000e+00\n",
      "Epoch 16/100\n",
      "1778/1778 [==============================] - 0s 154us/step - loss: 0.0179 - acc: 0.0000e+00 - val_loss: 0.0060 - val_acc: 0.0000e+00\n",
      "Epoch 17/100\n",
      "1778/1778 [==============================] - 0s 157us/step - loss: 0.0175 - acc: 0.0000e+00 - val_loss: 0.0099 - val_acc: 0.0000e+00\n",
      "Epoch 18/100\n",
      "1778/1778 [==============================] - 0s 155us/step - loss: 0.0166 - acc: 0.0000e+00 - val_loss: 0.0087 - val_acc: 0.0000e+00\n",
      "Epoch 19/100\n",
      "1778/1778 [==============================] - 0s 156us/step - loss: 0.0174 - acc: 0.0000e+00 - val_loss: 0.0055 - val_acc: 0.0000e+00\n",
      "Epoch 20/100\n",
      "1778/1778 [==============================] - 0s 152us/step - loss: 0.0161 - acc: 0.0000e+00 - val_loss: 0.0056 - val_acc: 0.0000e+00\n",
      "Epoch 21/100\n",
      "1778/1778 [==============================] - 0s 155us/step - loss: 0.0170 - acc: 0.0000e+00 - val_loss: 0.0100 - val_acc: 0.0000e+00\n",
      "Epoch 22/100\n",
      "1778/1778 [==============================] - 0s 157us/step - loss: 0.0151 - acc: 0.0000e+00 - val_loss: 0.0063 - val_acc: 0.0000e+00\n",
      "Epoch 23/100\n",
      "1778/1778 [==============================] - 0s 155us/step - loss: 0.0144 - acc: 0.0000e+00 - val_loss: 0.0063 - val_acc: 0.0000e+00\n",
      "Epoch 24/100\n",
      "1778/1778 [==============================] - 0s 155us/step - loss: 0.0135 - acc: 0.0000e+00 - val_loss: 0.0058 - val_acc: 0.0000e+00\n",
      "Epoch 25/100\n",
      "1778/1778 [==============================] - 0s 153us/step - loss: 0.0144 - acc: 0.0000e+00 - val_loss: 0.0041 - val_acc: 0.0000e+00\n",
      "Epoch 26/100\n",
      "1778/1778 [==============================] - 0s 157us/step - loss: 0.0133 - acc: 0.0000e+00 - val_loss: 0.0050 - val_acc: 0.0000e+00\n",
      "Epoch 27/100\n",
      "1778/1778 [==============================] - 0s 157us/step - loss: 0.0128 - acc: 0.0000e+00 - val_loss: 0.0045 - val_acc: 0.0000e+00\n",
      "Epoch 28/100\n",
      "1778/1778 [==============================] - 0s 158us/step - loss: 0.0121 - acc: 0.0000e+00 - val_loss: 0.0039 - val_acc: 0.0000e+00\n",
      "Epoch 29/100\n",
      "1778/1778 [==============================] - 0s 155us/step - loss: 0.0121 - acc: 0.0000e+00 - val_loss: 0.0053 - val_acc: 0.0000e+00\n",
      "Epoch 30/100\n",
      "1778/1778 [==============================] - 0s 156us/step - loss: 0.0118 - acc: 0.0000e+00 - val_loss: 0.0037 - val_acc: 0.0000e+00\n",
      "Epoch 31/100\n",
      "1778/1778 [==============================] - 0s 155us/step - loss: 0.0120 - acc: 0.0000e+00 - val_loss: 0.0031 - val_acc: 0.0000e+00\n",
      "Epoch 32/100\n",
      "1778/1778 [==============================] - 0s 156us/step - loss: 0.0123 - acc: 0.0000e+00 - val_loss: 0.0024 - val_acc: 0.0000e+00\n",
      "Epoch 33/100\n",
      "1778/1778 [==============================] - 0s 156us/step - loss: 0.0114 - acc: 0.0000e+00 - val_loss: 0.0031 - val_acc: 0.0000e+00\n",
      "Epoch 34/100\n",
      "1778/1778 [==============================] - 0s 154us/step - loss: 0.0112 - acc: 0.0000e+00 - val_loss: 0.0077 - val_acc: 0.0000e+00\n",
      "Epoch 35/100\n",
      "1778/1778 [==============================] - 0s 161us/step - loss: 0.0114 - acc: 0.0000e+00 - val_loss: 0.0049 - val_acc: 0.0000e+00\n",
      "Epoch 36/100\n",
      "1778/1778 [==============================] - 0s 155us/step - loss: 0.0112 - acc: 0.0000e+00 - val_loss: 0.0074 - val_acc: 0.0000e+00\n",
      "Epoch 37/100\n",
      "1778/1778 [==============================] - 0s 157us/step - loss: 0.0112 - acc: 0.0000e+00 - val_loss: 0.0049 - val_acc: 0.0000e+00\n",
      "Epoch 38/100\n",
      "1778/1778 [==============================] - 0s 154us/step - loss: 0.0119 - acc: 0.0000e+00 - val_loss: 0.0020 - val_acc: 0.0000e+00\n",
      "Epoch 39/100\n",
      "1778/1778 [==============================] - 0s 156us/step - loss: 0.0112 - acc: 0.0000e+00 - val_loss: 0.0103 - val_acc: 0.0000e+00\n",
      "Epoch 40/100\n",
      "1778/1778 [==============================] - 0s 157us/step - loss: 0.0106 - acc: 0.0000e+00 - val_loss: 0.0034 - val_acc: 0.0000e+00\n",
      "Epoch 41/100\n",
      "1778/1778 [==============================] - 0s 155us/step - loss: 0.0108 - acc: 0.0000e+00 - val_loss: 0.0023 - val_acc: 0.0000e+00\n",
      "Epoch 42/100\n",
      "1778/1778 [==============================] - 0s 154us/step - loss: 0.0108 - acc: 0.0000e+00 - val_loss: 0.0019 - val_acc: 0.0000e+00\n",
      "Epoch 43/100\n",
      "1778/1778 [==============================] - 0s 156us/step - loss: 0.0105 - acc: 0.0000e+00 - val_loss: 0.0020 - val_acc: 0.0000e+00\n",
      "Epoch 44/100\n",
      "1778/1778 [==============================] - 0s 155us/step - loss: 0.0106 - acc: 0.0000e+00 - val_loss: 0.0017 - val_acc: 0.0000e+00\n",
      "Epoch 45/100\n",
      "1778/1778 [==============================] - 0s 155us/step - loss: 0.0107 - acc: 0.0000e+00 - val_loss: 0.0034 - val_acc: 0.0000e+00\n",
      "Epoch 46/100\n",
      "1778/1778 [==============================] - 0s 154us/step - loss: 0.0105 - acc: 0.0000e+00 - val_loss: 0.0071 - val_acc: 0.0000e+00\n",
      "Epoch 47/100\n",
      "1778/1778 [==============================] - 0s 161us/step - loss: 0.0109 - acc: 0.0000e+00 - val_loss: 0.0020 - val_acc: 0.0000e+00\n",
      "Epoch 48/100\n",
      "1778/1778 [==============================] - 0s 155us/step - loss: 0.0105 - acc: 0.0000e+00 - val_loss: 0.0029 - val_acc: 0.0000e+00\n",
      "Epoch 49/100\n",
      "1778/1778 [==============================] - 0s 153us/step - loss: 0.0104 - acc: 0.0000e+00 - val_loss: 0.0078 - val_acc: 0.0000e+00\n",
      "Epoch 50/100\n",
      "1778/1778 [==============================] - 0s 154us/step - loss: 0.0103 - acc: 0.0000e+00 - val_loss: 0.0050 - val_acc: 0.0000e+00\n",
      "Epoch 51/100\n",
      "1778/1778 [==============================] - 0s 157us/step - loss: 0.0101 - acc: 0.0000e+00 - val_loss: 0.0072 - val_acc: 0.0000e+00\n",
      "Epoch 52/100\n",
      "1778/1778 [==============================] - 0s 156us/step - loss: 0.0106 - acc: 0.0000e+00 - val_loss: 0.0077 - val_acc: 0.0000e+00\n",
      "Epoch 53/100\n",
      "1778/1778 [==============================] - 0s 157us/step - loss: 0.0099 - acc: 0.0000e+00 - val_loss: 0.0022 - val_acc: 0.0000e+00\n",
      "Epoch 54/100\n",
      "1778/1778 [==============================] - 0s 158us/step - loss: 0.0096 - acc: 0.0000e+00 - val_loss: 0.0022 - val_acc: 0.0000e+00\n",
      "Epoch 55/100\n",
      "1778/1778 [==============================] - 0s 156us/step - loss: 0.0097 - acc: 0.0000e+00 - val_loss: 0.0030 - val_acc: 0.0000e+00\n",
      "Epoch 56/100\n",
      "1778/1778 [==============================] - 0s 154us/step - loss: 0.0090 - acc: 0.0000e+00 - val_loss: 0.0026 - val_acc: 0.0000e+00\n"
     ]
    },
    {
     "name": "stdout",
     "output_type": "stream",
     "text": [
      "Epoch 57/100\n",
      "1778/1778 [==============================] - 0s 171us/step - loss: 0.0091 - acc: 0.0000e+00 - val_loss: 0.0020 - val_acc: 0.0000e+00\n",
      "Epoch 58/100\n",
      "1778/1778 [==============================] - 0s 178us/step - loss: 0.0094 - acc: 0.0000e+00 - val_loss: 0.0012 - val_acc: 0.0000e+00\n",
      "Epoch 59/100\n",
      "1778/1778 [==============================] - 0s 179us/step - loss: 0.0092 - acc: 0.0000e+00 - val_loss: 0.0014 - val_acc: 0.0000e+00\n",
      "Epoch 60/100\n",
      "1778/1778 [==============================] - 0s 161us/step - loss: 0.0087 - acc: 0.0000e+00 - val_loss: 0.0024 - val_acc: 0.0000e+00\n",
      "Epoch 61/100\n",
      "1778/1778 [==============================] - 0s 171us/step - loss: 0.0088 - acc: 0.0000e+00 - val_loss: 0.0015 - val_acc: 0.0000e+00\n",
      "Epoch 62/100\n",
      "1778/1778 [==============================] - 0s 183us/step - loss: 0.0081 - acc: 0.0000e+00 - val_loss: 0.0022 - val_acc: 0.0000e+00\n",
      "Epoch 63/100\n",
      "1778/1778 [==============================] - 0s 174us/step - loss: 0.0085 - acc: 0.0000e+00 - val_loss: 0.0017 - val_acc: 0.0000e+00\n",
      "Epoch 64/100\n",
      "1778/1778 [==============================] - 0s 244us/step - loss: 0.0088 - acc: 0.0000e+00 - val_loss: 0.0031 - val_acc: 0.0000e+00\n",
      "Epoch 65/100\n",
      "1778/1778 [==============================] - 1s 287us/step - loss: 0.0080 - acc: 0.0000e+00 - val_loss: 0.0072 - val_acc: 0.0000e+00\n",
      "Epoch 66/100\n",
      "1778/1778 [==============================] - 0s 149us/step - loss: 0.0084 - acc: 0.0000e+00 - val_loss: 0.0014 - val_acc: 0.0000e+00\n",
      "Epoch 67/100\n",
      "1778/1778 [==============================] - 0s 151us/step - loss: 0.0080 - acc: 0.0000e+00 - val_loss: 0.0077 - val_acc: 0.0000e+00\n",
      "Epoch 68/100\n",
      "1778/1778 [==============================] - 0s 153us/step - loss: 0.0083 - acc: 0.0000e+00 - val_loss: 0.0032 - val_acc: 0.0000e+00\n",
      "Epoch 69/100\n",
      "1778/1778 [==============================] - 0s 148us/step - loss: 0.0083 - acc: 0.0000e+00 - val_loss: 0.0109 - val_acc: 0.0000e+00\n",
      "Epoch 70/100\n",
      "1778/1778 [==============================] - 0s 154us/step - loss: 0.0084 - acc: 0.0000e+00 - val_loss: 0.0079 - val_acc: 0.0000e+00\n",
      "Epoch 71/100\n",
      "1778/1778 [==============================] - 1s 434us/step - loss: 0.0086 - acc: 0.0000e+00 - val_loss: 0.0024 - val_acc: 0.0000e+00\n",
      "Epoch 72/100\n",
      "1778/1778 [==============================] - 1s 388us/step - loss: 0.0084 - acc: 0.0000e+00 - val_loss: 0.0018 - val_acc: 0.0000e+00\n",
      "Epoch 73/100\n",
      "1778/1778 [==============================] - 2s 1ms/step - loss: 0.0074 - acc: 0.0000e+00 - val_loss: 0.0016 - val_acc: 0.0000e+00\n",
      "Epoch 74/100\n",
      "1778/1778 [==============================] - 0s 215us/step - loss: 0.0083 - acc: 0.0000e+00 - val_loss: 0.0013 - val_acc: 0.0000e+00\n",
      "Epoch 75/100\n",
      "1778/1778 [==============================] - 0s 227us/step - loss: 0.0087 - acc: 0.0000e+00 - val_loss: 0.0059 - val_acc: 0.0000e+00\n",
      "Epoch 76/100\n",
      "1778/1778 [==============================] - 0s 226us/step - loss: 0.0095 - acc: 0.0000e+00 - val_loss: 0.0060 - val_acc: 0.0000e+00\n",
      "Epoch 77/100\n",
      "1778/1778 [==============================] - 0s 226us/step - loss: 0.0081 - acc: 0.0000e+00 - val_loss: 0.0022 - val_acc: 0.0000e+00\n",
      "Epoch 78/100\n",
      "1778/1778 [==============================] - 0s 249us/step - loss: 0.0076 - acc: 0.0000e+00 - val_loss: 0.0018 - val_acc: 0.0000e+00\n",
      "Epoch 79/100\n",
      "1778/1778 [==============================] - 0s 183us/step - loss: 0.0070 - acc: 0.0000e+00 - val_loss: 0.0013 - val_acc: 0.0000e+00\n",
      "Epoch 80/100\n",
      "1778/1778 [==============================] - 0s 187us/step - loss: 0.0077 - acc: 0.0000e+00 - val_loss: 0.0049 - val_acc: 0.0000e+00\n",
      "Epoch 81/100\n",
      "1778/1778 [==============================] - 1s 449us/step - loss: 0.0074 - acc: 0.0000e+00 - val_loss: 0.0032 - val_acc: 0.0000e+00\n",
      "Epoch 82/100\n",
      "1778/1778 [==============================] - 1s 568us/step - loss: 0.0076 - acc: 0.0000e+00 - val_loss: 0.0033 - val_acc: 0.0000e+00\n",
      "Epoch 83/100\n",
      "1778/1778 [==============================] - 1s 329us/step - loss: 0.0075 - acc: 0.0000e+00 - val_loss: 0.0019 - val_acc: 0.0000e+00\n",
      "Epoch 84/100\n",
      "1778/1778 [==============================] - 1s 300us/step - loss: 0.0084 - acc: 0.0000e+00 - val_loss: 0.0012 - val_acc: 0.0000e+00\n",
      "Epoch 85/100\n",
      "1778/1778 [==============================] - 1s 305us/step - loss: 0.0072 - acc: 0.0000e+00 - val_loss: 0.0019 - val_acc: 0.0000e+00\n",
      "Epoch 86/100\n",
      "1778/1778 [==============================] - 1s 301us/step - loss: 0.0072 - acc: 0.0000e+00 - val_loss: 0.0027 - val_acc: 0.0000e+00\n",
      "Epoch 87/100\n",
      "1778/1778 [==============================] - 1s 297us/step - loss: 0.0077 - acc: 0.0000e+00 - val_loss: 0.0019 - val_acc: 0.0000e+00\n",
      "Epoch 88/100\n",
      "1778/1778 [==============================] - 1s 298us/step - loss: 0.0081 - acc: 0.0000e+00 - val_loss: 0.0030 - val_acc: 0.0000e+00\n",
      "Epoch 89/100\n",
      "1778/1778 [==============================] - 1s 311us/step - loss: 0.0087 - acc: 0.0000e+00 - val_loss: 0.0056 - val_acc: 0.0000e+00\n",
      "Epoch 90/100\n",
      "1778/1778 [==============================] - 1s 307us/step - loss: 0.0087 - acc: 0.0000e+00 - val_loss: 0.0014 - val_acc: 0.0000e+00\n",
      "Epoch 91/100\n",
      "1778/1778 [==============================] - 1s 314us/step - loss: 0.0068 - acc: 0.0000e+00 - val_loss: 0.0040 - val_acc: 0.0000e+00\n",
      "Epoch 92/100\n",
      "1778/1778 [==============================] - 1s 353us/step - loss: 0.0076 - acc: 0.0000e+00 - val_loss: 0.0065 - val_acc: 0.0000e+00\n",
      "Epoch 93/100\n",
      "1778/1778 [==============================] - 1s 315us/step - loss: 0.0081 - acc: 0.0000e+00 - val_loss: 0.0014 - val_acc: 0.0000e+00\n",
      "Epoch 94/100\n",
      "1778/1778 [==============================] - 1s 331us/step - loss: 0.0063 - acc: 0.0000e+00 - val_loss: 0.0077 - val_acc: 0.0000e+00\n",
      "Epoch 95/100\n",
      "1778/1778 [==============================] - 1s 321us/step - loss: 0.0068 - acc: 0.0000e+00 - val_loss: 0.0073 - val_acc: 0.0000e+00\n",
      "Epoch 96/100\n",
      "1778/1778 [==============================] - 1s 294us/step - loss: 0.0078 - acc: 0.0000e+00 - val_loss: 0.0017 - val_acc: 0.0000e+00\n",
      "Epoch 97/100\n",
      "1778/1778 [==============================] - 1s 285us/step - loss: 0.0075 - acc: 0.0000e+00 - val_loss: 0.0022 - val_acc: 0.0000e+00\n",
      "Epoch 98/100\n",
      "1778/1778 [==============================] - 1s 301us/step - loss: 0.0073 - acc: 0.0000e+00 - val_loss: 0.0012 - val_acc: 0.0000e+00\n",
      "Epoch 99/100\n",
      "1778/1778 [==============================] - 1s 302us/step - loss: 0.0067 - acc: 0.0000e+00 - val_loss: 0.0019 - val_acc: 0.0000e+00\n",
      "Epoch 100/100\n",
      "1778/1778 [==============================] - 2s 930us/step - loss: 0.0067 - acc: 0.0000e+00 - val_loss: 0.0013 - val_acc: 0.0000e+00\n"
     ]
    },
    {
     "data": {
      "text/plain": [
       "<keras.callbacks.History at 0x17f7af68a20>"
      ]
     },
     "execution_count": 105,
     "metadata": {},
     "output_type": "execute_result"
    }
   ],
   "source": [
    "model.fit(\n",
    "    X_train,\n",
    "    y_train,\n",
    "    batch_size=64,\n",
    "    nb_epoch=100,\n",
    "    validation_split=0.1)"
   ]
  },
  {
   "cell_type": "code",
   "execution_count": 106,
   "metadata": {
    "scrolled": false
   },
   "outputs": [
    {
     "name": "stdout",
     "output_type": "stream",
     "text": [
      "[20173.639, 19957.979, 19678.32, 19478.957, 19485.344, 19186.357, 18892.842, 18789.326, 18852.06, 18753.457, 18904.127, 19013.799, 19080.166, 18861.922, 18813.225, 18738.479, 18639.709, 18325.61, 18294.328, 18374.432, 18109.201, 17983.48, 17830.955, 17747.457, 17695.453, 17780.127, 18098.234, 18135.664, 18047.621, 18347.229, 18240.35, 18488.998, 18534.844, 18560.34, 18209.176, 18016.223, 17982.48, 18256.2, 18229.486, 18358.084, 18183.42, 18350.443, 18434.914, 18596.38, 18528.023, 18634.42, 18291.588, 18347.031, 18229.125, 18155.875, 18004.475, 18019.805, 18152.865, 18283.201, 18450.139, 18678.195, 18786.188, 19039.395, 19321.932, 19448.191, 19655.234, 19698.85, 19712.854, 19626.912, 19564.586, 19433.719, 19580.115, 19401.914, 19253.389, 19128.97, 19259.988, 19339.207, 19351.617, 19403.232, 19430.115, 19211.398, 19226.016, 19232.523, 18957.283, 18714.531, 18424.076, 18466.318, 18399.428, 18353.268, 18397.934, 18281.557, 18388.516, 18440.293, 18337.52, 18372.178, 18257.457, 18313.611, 18129.52, 18067.701, 18028.012, 18015.008, 18171.496, 18231.6, 18413.992, 18492.81, 18419.77, 18504.908, 18555.834, 18679.35, 18585.828, 18517.885, 18470.775, 18358.287, 18315.277, 18243.451, 18175.195, 18053.316, 17775.709, 17743.174, 17661.7, 17734.156, 17961.703, 18063.035, 18221.361, 18443.47, 18650.473, 18834.686, 18938.568, 19001.879, 19001.389, 19054.27, 18941.748, 18873.555, 18647.217, 18651.295, 18665.29, 18598.102, 18573.596, 18638.62, 18417.354, 18431.336, 18611.062, 18811.756, 18601.768, 18538.443, 18420.875, 18395.658, 18363.281, 18284.068, 18179.45, 17872.785, 17520.566, 17341.232, 17149.133, 17225.74, 17091.617, 16829.863, 16735.904, 16758.814, 16574.547, 16449.012, 16577.271, 16648.021, 16376.873, 16261.667, 16108.808, 16375.62, 16466.053, 16708.902, 16839.871, 16894.465, 16996.299, 17207.865, 17178.717, 17149.488, 16911.365, 16922.781, 16948.02, 17018.889, 16876.832, 16984.945, 16945.621, 16697.832, 16674.94, 16564.303, 16653.705, 16514.16, 16601.78, 16532.025, 16207.707, 15990.244, 16131.356, 16385.922, 16612.87, 16448.889, 16743.03, 16669.135, 16937.744, 17101.771, 17152.21, 17414.592, 17254.78, 17075.963, 17170.697, 17207.12, 17283.598, 17531.309, 17588.186, 17654.994, 17576.717, 17682.217, 17811.01, 17807.963, 17605.37, 17500.613, 17223.154, 17075.898, 17033.068, 16785.092, 16631.234, 16240.116, 16147.002, 15895.155, 15903.233, 15712.863, 15973.607, 15881.85, 16045.378, 16266.757, 16689.602, 16722.195, 16988.613, 16821.328, 16779.656, 16410.195, 16490.432, 16329.282, 16112.161, 15678.292, 15506.807, 15211.997, 15534.261, 15676.063, 15757.975, 15843.636, 15856.74, 15809.544, 15846.245, 15833.418, 15947.234, 15976.585, 15913.899, 15944.795, 15873.402, 15903.542, 15961.302, 16241.759, 16335.342, 16292.093, 16224.419, 16296.791, 16489.959, 16534.879, 16706.98, 16843.645, 16793.758, 16983.072, 17159.045, 17293.398, 17170.459, 17288.348, 17414.809, 17477.578, 17607.215, 17730.633, 17672.5, 17747.42, 17813.646, 17965.447, 17912.799, 17955.139, 18138.375, 18118.77, 18195.762, 18364.604, 18257.428, 18211.312, 18176.164, 17911.885, 17975.166, 17811.69, 17706.053, 17628.096, 17521.566, 17435.328, 17292.117, 17264.81, 17579.184, 17509.225, 17632.111, 17777.39, 17675.64, 17579.793, 17571.994, 17648.672, 17802.926, 17465.531, 17483.45, 17197.36, 17205.068, 17182.379, 17191.918, 17419.312, 17458.48, 17429.82, 17556.734, 17375.707, 17504.355, 17398.742, 17509.098, 17411.238, 17296.518, 17353.336, 17314.418, 17427.906, 17475.947, 17328.506, 17389.912, 17299.229, 17361.17, 17331.428, 17270.248, 17314.924, 17259.568, 17227.459, 17138.943, 17108.033, 16893.926, 16794.668, 16682.367, 16514.377, 16330.162, 16309.971, 16126.637, 16182.048, 16136.307, 16241.184, 16154.709, 16104.558, 16267.658, 16297.805, 16374.459, 16522.285, 16474.049, 16417.865, 16260.554, 16313.869, 16332.021, 16454.68, 16593.799, 16605.97, 16611.268, 16816.945, 16925.13, 16975.693, 17169.723, 17090.494, 17045.422, 17014.31, 17087.338, 17104.049, 16994.432, 17009.074, 17122.451, 17051.053, 17401.896, 17381.152, 17437.422, 17459.418, 17573.56, 17652.006, 17620.049, 17753.225, 17714.723, 17434.947, 17411.514, 17314.436, 17263.709, 17248.94, 17271.469, 17241.496, 16977.049, 16997.535, 17014.514, 16864.148, 16957.672, 17102.738, 17137.094, 17132.584, 17186.951, 17308.117, 17433.668, 17615.729, 17754.523, 17731.877, 17674.572, 17715.57, 17790.541, 17797.012, 17859.361, 17922.092, 17865.535, 17893.201, 17900.943, 17854.867, 17805.85, 17679.963, 17711.707, 17616.852, 17482.775, 17495.879, 17386.467, 17386.602, 17581.797, 17649.88, 17737.215, 17803.51, 17964.11, 18044.86, 18317.406, 18497.002, 18567.38, 18464.633, 18697.193, 18730.303, 18782.459, 18763.379, 18762.098, 18725.326, 18762.572, 18826.875, 19009.207, 18859.742, 18794.432, 18829.336, 18771.465, 18874.027, 18743.865, 18738.05, 18630.928, 18555.176, 18671.465, 18693.727, 18722.916, 18740.21, 18712.363, 18690.266, 18674.129, 18607.383, 18617.73, 18562.746, 18683.027, 18659.604, 18730.043, 18772.06, 18822.879, 18750.688, 18824.3, 18773.135, 18676.605, 18494.076, 18465.879, 18393.459, 18393.705, 18412.19, 18456.75, 18465.725, 18649.84, 18907.717, 19124.283, 19186.76, 19303.297, 19351.56, 19461.16, 19500.475, 19542.87, 19474.822, 19371.742, 19259.947, 19308.36, 19246.393, 19284.727, 19303.994, 19325.771, 19230.424, 19230.797, 19317.182, 19318.9, 19357.914]\n",
      "[20184.74, 19691.81, 19224.12, 19196.34, 19534.1, 19182.82, 18860.44, 18882.25, 19092.05, 18978.32, 19046.54, 19007.53, 19151.28, 18969.45, 18684.43, 18395.97, 18327.76, 18022.22, 18090.62, 18449.31, 18008.15, 18037.19, 17775.7, 17592.77, 17463.04, 17728.61, 18202.2, 18273.8, 18300.9, 18506.82, 18211.52, 18438.31, 18296.16, 18178.33, 17632.41, 17700.91, 17823.4, 18446.5, 18489.76, 18486.45, 18222.67, 18439.65, 18469.95, 18327.98, 18174.09, 18439.48, 18167.64, 18358.69, 18149.87, 17878.81, 17839.05, 17988.3, 18206.16, 18350.74, 18815.64, 18943.14, 19120.8, 19290.18, 19445.22, 19420.39, 19701.73, 19686.82, 19612.2, 19591.18, 19451.45, 19262.54, 19696.86, 19386.82, 19091.17, 19121.83, 19470.98, 19602.23, 19584.31, 19545.35, 19448.69, 19292.02, 19135.96, 18998.02, 18534.69, 18469.36, 18210.58, 18518.81, 18528.96, 18512.77, 18584.96, 18335.79, 18531.28, 18345.03, 18137.35, 18086.2, 18141.4, 18326.09, 17993.33, 18011.97, 17847.24, 18044.64, 18266.1, 18232.06, 18503.28, 18608.81, 18494.18, 18376.48, 18420.11, 18495.62, 18394.29, 18384.9, 18268.54, 18266.03, 18308.66, 18132.24, 17985.88, 17870.53, 17506.63, 17560.3, 17550.63, 17727.49, 18240.68, 18412.41, 18492.45, 18693.86, 18845.87, 18762.8, 18814.48, 18744.56, 18726.97, 19078.3, 18858.04, 18721.39, 18411.62, 18596.02, 18618.2, 18561.92, 18507.04, 18653.87, 18502.38, 18436.19, 18722.3, 18871.29, 18518.22, 18432.25, 18209.52, 18197.2, 18314.33, 18109.89, 17940.55, 17693.18, 17305.87, 16990.18, 16857.91, 17130.51, 17059.4, 16839.63, 16730.94, 16840.8, 16469.79, 16141.669999999998, 16341.7, 16498.47, 16284.98, 16146.33, 15848.830000000002, 16416.33, 16676.75, 16821.46, 16713.33, 16862.81, 17065.0, 17165.54, 16866.97, 16501.74, 16467.44, 16709.6, 16876.54, 16933.83, 16745.35, 17099.28, 17065.15, 16361.15, 16162.06, 16051.1, 16524.03, 16446.02, 16698.07, 16453.76, 16151.45, 15864.860000000002, 15792.41, 16232.54, 16557.23, 16536.47, 16958.39, 16883.92, 17082.69, 17025.09, 16748.29, 17085.34, 16936.89, 16785.64, 16939.28, 17254.86, 17288.83, 17804.8, 17705.01, 17480.83, 17464.85, 17481.93, 17562.61, 17569.53, 17362.1, 17192.82, 17118.74, 16882.67, 16775.87, 16461.71, 16371.51, 15946.1, 16065.42, 15699.97, 15858.49, 15695.429999999998, 16167.129999999997, 16008.34, 16123.459999999997, 16483.45, 16846.83, 16805.33, 16877.06, 16488.24, 16213.46, 15870.350000000002, 16002.51, 15881.14, 15836.47, 15491.35, 15379.34, 15175.080000000002, 15685.209999999997, 15813.36, 15738.7, 15970.75, 15873.95, 15727.85, 15543.93, 15454.92, 15517.92, 15939.36, 15882.64, 15857.08, 15867.73, 15848.8, 15814.72, 16165.09, 16175.86, 16037.51, 16154.62, 16189.36, 16466.05, 16451.47, 16643.74, 16739.01, 16751.73, 16995.77, 17077.18, 17233.98, 16863.3, 17193.55, 17300.58, 17431.85, 17604.96, 17707.31, 17622.45, 17707.32, 17830.75, 17748.69, 17772.84, 17848.57, 18202.41, 18153.99, 18289.35, 18428.61, 18145.25, 18078.5, 17923.57, 17445.75, 17731.12, 17752.68, 17583.97, 17636.8, 17636.99, 17362.87, 17173.29, 17145.52, 17503.24, 17587.67, 17813.62, 17919.3, 17675.85, 17466.2, 17273.37, 17316.18, 17601.71, 17196.47, 17361.74, 17052.78, 17257.36, 17121.62, 17058.61, 17404.2, 17478.15, 17597.42, 17486.02, 17222.14, 17243.84, 17199.4, 17332.62, 17094.51, 17150.95, 17357.94, 17392.39, 17503.71, 17373.84, 17096.68, 17207.29, 17151.29, 17130.67, 17134.25, 17187.34, 17318.81, 17301.91, 17151.19, 16831.08, 16912.71, 16546.18, 16479.58, 16420.05, 16292.98, 16215.840000000002, 16328.25, 16030.09, 16070.48, 16152.75, 16183.26, 16026.41, 15948.1, 16222.3, 16217.82, 16416.84, 16438.58, 16312.15, 16218.53, 15965.16, 15988.4, 16020.640000000001, 16454.3, 16649.05, 16718.87, 16668.01, 16862.8, 16880.51, 16677.88, 16949.83, 16705.83, 16859.8, 16896.63, 17032.56, 16972.51, 16882.16, 16906.58, 16967.76, 16990.76, 17429.98, 17398.98, 17425.71, 17462.81, 17538.67, 17521.12, 17391.98, 17618.35, 17489.14, 17232.55, 17213.7, 17103.31, 17105.3, 17185.01, 17278.85, 17158.44, 16877.35, 16918.08, 16846.05, 16639.82, 16839.19, 17143.68, 17236.18, 17257.38, 17224.36, 17197.93, 17412.96, 17601.78, 17600.56, 17560.87, 17557.74, 17633.45, 17728.2, 17657.21, 17691.08, 17885.26, 17846.86, 17850.22, 17783.21, 17678.81, 17631.71, 17490.81, 17541.64, 17429.56, 17384.4, 17440.87, 17313.34, 17346.27, 17683.73, 17749.65, 17766.78, 17852.95, 18000.03, 18021.16, 18464.27, 18542.31, 18496.01, 18349.25, 18752.83, 18673.34, 18694.41, 18632.17, 18579.5, 18762.74, 18823.91, 18869.69, 19058.15, 18938.46, 18708.98, 18793.36, 18631.1, 18804.75, 18675.18, 18713.55, 18577.7, 18610.77, 18791.93, 18682.31, 18793.44, 18710.02, 18758.63, 18625.34, 18635.82, 18430.85, 18505.38, 18561.7, 18755.45, 18762.87, 18817.38, 18902.41, 18846.26, 18683.68, 18670.34, 18618.87, 18471.37, 18309.37, 18339.0, 18329.32, 18460.38, 18517.34, 18506.57, 18537.01, 18842.08, 19170.91, 19339.9, 19305.32, 19348.12, 19391.86, 19486.8, 19424.1, 19409.69, 19387.14, 19355.26, 19229.26, 19317.25, 19244.42, 19364.75, 19476.0, 19453.92, 19242.0, 19255.09, 19417.46, 19323.8, 19444.84]\n"
     ]
    }
   ],
   "source": [
    "# print(X_test, y_test)\n",
    "trainPredict = model.predict(X_test, batch_size=10)\n",
    "trainPredict = scaler.inverse_transform(trainPredict)\n",
    "y_test = scaler.inverse_transform(y_test)\n",
    "new_predict =[]\n",
    "new_y_test =[]\n",
    "for i in range(0,len(trainPredict)):\n",
    "    new_predict.append(trainPredict[i][0])\n",
    "for i in range(0,len(y_test)):\n",
    "    new_y_test.append(y_test[i][0])\n",
    "print(new_predict)\n",
    "print(new_y_test)"
   ]
  },
  {
   "cell_type": "code",
   "execution_count": 107,
   "metadata": {},
   "outputs": [],
   "source": [
    "def error_function(test_y, predicted_y):\n",
    "    import numpy as np\n",
    "    from math import sqrt\n",
    "    test = list(test_y)\n",
    "    #print (test[1]-predicted_y[1])\n",
    "    MAPE=[(test[i]-predicted_y[i])/test[i] for i in range(len(test))]\n",
    "    MAPE1=abs((sum(MAPE)*100/len(test)))\n",
    "    MAE=abs((sum(MAPE)/len(test)))\n",
    "    rRMSE=[((test[i]-predicted_y[i])/test[i])**2 for i in range(len(test))]\n",
    "    rRMSE=sqrt(sum(rRMSE)/len(test))\n",
    "    MSE=[(test[i]-predicted_y[i])**2 for i in range(len(test))]\n",
    "    MSE=sum(MSE)/len(test)\n",
    "    #print(MSE)\n",
    "    return MAPE1,MAE,rRMSE,MSE"
   ]
  },
  {
   "cell_type": "code",
   "execution_count": 108,
   "metadata": {
    "scrolled": true
   },
   "outputs": [
    {
     "name": "stdout",
     "output_type": "stream",
     "text": [
      "\t MAPE\t\t\tMAE\t\t\trRMSE\t\t\tMSE\n",
      "(0.42767415428867706, 0.004276741542886771, 0.010223104467429594, 31012.106199497972)\n"
     ]
    }
   ],
   "source": [
    "print(\"\\t MAPE\\t\\t\\tMAE\\t\\t\\trRMSE\\t\\t\\tMSE\")\n",
    "print(error_function( new_y_test,new_predict))"
   ]
  },
  {
   "cell_type": "code",
   "execution_count": 109,
   "metadata": {},
   "outputs": [],
   "source": [
    "p = model.predict(X_test)\n",
    "p = scaler.inverse_transform(p)\n",
    "#print(p)"
   ]
  },
  {
   "cell_type": "code",
   "execution_count": 110,
   "metadata": {},
   "outputs": [],
   "source": [
    "param_test = scaler.inverse_transform(param_test)\n",
    "result_test = our_result\n",
    "\n",
    "#print (param_test)\n",
    "#print (result_test)"
   ]
  },
  {
   "cell_type": "code",
   "execution_count": 111,
   "metadata": {
    "scrolled": true
   },
   "outputs": [
    {
     "data": {
      "image/png": "[encoded data removed]",
      "text/plain": [
       "<Figure size 432x288 with 1 Axes>"
      ]
     },
     "metadata": {
      "needs_background": "light"
     },
     "output_type": "display_data"
    }
   ],
   "source": [
    "import matplotlib.pyplot as plt2\n",
    "\n",
    "plt2.plot(new_y_test,color='red', label='y_test',linewidth='1.0')\n",
    "plt2.plot(new_predict,color='blue', label='prediction',linewidth='0.7')\n",
    "plt2.legend(loc='upper left')\n",
    "plt2.show()"
   ]
  },
  {
   "cell_type": "code",
   "execution_count": null,
   "metadata": {},
   "outputs": [],
   "source": []
  },
  {
   "cell_type": "code",
   "execution_count": null,
   "metadata": {},
   "outputs": [],
   "source": []
  },
  {
   "cell_type": "code",
   "execution_count": null,
   "metadata": {},
   "outputs": [],
   "source": []
  },
  {
   "cell_type": "code",
   "execution_count": null,
   "metadata": {},
   "outputs": [],
   "source": []
  }
 ],
 "metadata": {
  "kernelspec": {
   "display_name": "Python 3",
   "language": "python",
   "name": "python3"
  },
  "language_info": {
   "codemirror_mode": {
    "name": "ipython",
    "version": 3
   },
   "file_extension": ".py",
   "mimetype": "text/x-python",
   "name": "python",
   "nbconvert_exporter": "python",
   "pygments_lexer": "ipython3",
   "version": "3.6.3"
  }
 },
 "nbformat": 4,
 "nbformat_minor": 2
}
