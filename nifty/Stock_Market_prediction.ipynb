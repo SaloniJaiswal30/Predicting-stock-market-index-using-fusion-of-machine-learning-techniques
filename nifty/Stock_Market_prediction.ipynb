{
 "cells": [
  {
   "cell_type": "code",
   "execution_count": 89,
   "metadata": {
    "scrolled": true
   },
   "outputs": [],
   "source": [
    "import numpy as np \n",
    "import pandas as pd \n",
    "\n",
    "from subprocess import check_output\n",
    "from keras.layers.core import Dense, Activation, Dropout\n",
    "from keras.layers.recurrent import LSTM\n",
    "from keras.models import Sequential\n",
    "from sklearn.cross_validation import  train_test_split\n",
    "import time \n",
    "from sklearn.preprocessing import MinMaxScaler\n",
    "import matplotlib.pyplot as plt\n",
    "from numpy import newaxis\n",
    "from sklearn.metrics import mean_squared_error\n",
    "from math import sqrt"
   ]
  },
  {
   "cell_type": "code",
   "execution_count": 68,
   "metadata": {},
   "outputs": [],
   "source": [
    "prices_dataset =  pd.read_csv('paramdatasetlstm.csv', header=0)\n",
    "prices_dataset.head()\n",
    "param=prices_dataset.iloc[:2470,1:11]\n",
    "param = np.array(param).reshape(2470,10)\n",
    "result=prices_dataset.iloc[:2470,11]\n",
    "result = np.array(result).reshape(2470,1)"
   ]
  },
  {
   "cell_type": "code",
   "execution_count": 69,
   "metadata": {},
   "outputs": [],
   "source": [
    "n1 = param.shape[0]\n",
    "p1 = param.shape[1]\n",
    "n2 = result.shape[0]\n",
    "p2 = result.shape[1]\n",
    "# dataset = dataset.values\n",
    "#print(n1,n2)"
   ]
  },
  {
   "cell_type": "code",
   "execution_count": 70,
   "metadata": {},
   "outputs": [],
   "source": [
    "train_start = 0\n",
    "train_end = int(np.floor(0.8*n1))\n",
    "test_start = train_end\n",
    "test_end = n1\n",
    "param_train = param[np.arange(train_start, train_end), :]\n",
    "# print(data_train)\n",
    "param_test = param[np.arange(test_start, test_end), :]\n",
    "\n",
    "train_start = 0\n",
    "train_end = int(np.floor(0.8*n2))\n",
    "test_start = train_end\n",
    "test_end = n2\n",
    "\n",
    "result_train = result[np.arange(train_start, train_end), :]\n",
    "# print(data_train)\n",
    "result_test = result[np.arange(test_start, test_end), :]\n",
    "our_result = result[np.arange(test_start, test_end), :]"
   ]
  },
  {
   "cell_type": "code",
   "execution_count": 71,
   "metadata": {},
   "outputs": [
    {
     "data": {
      "text/plain": [
       "(1976, 10)"
      ]
     },
     "execution_count": 71,
     "metadata": {},
     "output_type": "execute_result"
    }
   ],
   "source": [
    "param_train.shape"
   ]
  },
  {
   "cell_type": "code",
   "execution_count": 72,
   "metadata": {},
   "outputs": [
    {
     "data": {
      "text/plain": [
       "(494, 10)"
      ]
     },
     "execution_count": 72,
     "metadata": {},
     "output_type": "execute_result"
    }
   ],
   "source": [
    "param_test.shape"
   ]
  },
  {
   "cell_type": "code",
   "execution_count": 73,
   "metadata": {
    "scrolled": true
   },
   "outputs": [],
   "source": [
    "# Scale data\n",
    "from sklearn.preprocessing import MinMaxScaler\n",
    "#print(param_train)\n",
    "\n",
    "scaler = MinMaxScaler()\n",
    "scaler.fit(param_train)\n",
    "scaler.fit(param_test)\n",
    "scaler.fit(result_train)\n",
    "scaler.fit(result_test)\n",
    "\n",
    "param_train = scaler.transform(param_train)\n",
    "param_test = scaler.transform(param_test)\n",
    "result_train = scaler.transform(result_train)\n",
    "result_test = scaler.transform(result_test)\n",
    "# Build X and y\n",
    "X_train = param_train\n",
    "y_train = result_train\n",
    "X_test = param_test\n",
    "y_test = result_test\n",
    "\n",
    "#print(len(X_test),len(y_test))\n"
   ]
  },
  {
   "cell_type": "code",
   "execution_count": 74,
   "metadata": {},
   "outputs": [
    {
     "data": {
      "text/plain": [
       "(1976, 10)"
      ]
     },
     "execution_count": 74,
     "metadata": {},
     "output_type": "execute_result"
    }
   ],
   "source": [
    "X_train.shape\n",
    "#y_test.shape"
   ]
  },
  {
   "cell_type": "code",
   "execution_count": 75,
   "metadata": {},
   "outputs": [
    {
     "data": {
      "text/plain": [
       "(1976, 1)"
      ]
     },
     "execution_count": 75,
     "metadata": {},
     "output_type": "execute_result"
    }
   ],
   "source": [
    "y_train.shape"
   ]
  },
  {
   "cell_type": "code",
   "execution_count": 76,
   "metadata": {},
   "outputs": [
    {
     "data": {
      "text/plain": [
       "(494, 10)"
      ]
     },
     "execution_count": 76,
     "metadata": {},
     "output_type": "execute_result"
    }
   ],
   "source": [
    "X_test.shape"
   ]
  },
  {
   "cell_type": "code",
   "execution_count": 77,
   "metadata": {},
   "outputs": [
    {
     "data": {
      "text/plain": [
       "(494, 1)"
      ]
     },
     "execution_count": 77,
     "metadata": {},
     "output_type": "execute_result"
    }
   ],
   "source": [
    "y_test.shape"
   ]
  },
  {
   "cell_type": "code",
   "execution_count": 78,
   "metadata": {},
   "outputs": [],
   "source": [
    "X_train = np.reshape(X_train, (X_train.shape[0], 1, X_train.shape[1]))\n",
    "X_test = np.reshape(X_test, (X_test.shape[0], 1, X_test.shape[1]))"
   ]
  },
  {
   "cell_type": "code",
   "execution_count": 79,
   "metadata": {},
   "outputs": [
    {
     "data": {
      "text/plain": [
       "(1976, 1, 10)"
      ]
     },
     "execution_count": 79,
     "metadata": {},
     "output_type": "execute_result"
    }
   ],
   "source": [
    "X_train.shape\n",
    "#layers=['1409','1','4']"
   ]
  },
  {
   "cell_type": "code",
   "execution_count": 80,
   "metadata": {},
   "outputs": [],
   "source": [
    "from keras import optimizers"
   ]
  },
  {
   "cell_type": "code",
   "execution_count": 81,
   "metadata": {},
   "outputs": [],
   "source": [
    "model = Sequential()\n",
    "model.add(LSTM(128, input_shape=(1, 10), return_sequences=True))\n",
    "model.add(Dropout(0.2))\n",
    "model.add(LSTM(64, input_shape=(1, 10), return_sequences=False))\n",
    "model.add(Dropout(0.2))\n",
    "model.add(Dense(16,activation='relu'))        \n",
    "model.add(Dense(1,activation='linear'))\n",
    "model.compile(loss='mse',optimizer='adam',metrics=['accuracy'])"
   ]
  },
  {
   "cell_type": "code",
   "execution_count": 82,
   "metadata": {
    "scrolled": true
   },
   "outputs": [
    {
     "name": "stderr",
     "output_type": "stream",
     "text": [
      "C:\\Users\\Saloni\\Anaconda3\\envs\\my_flask_env\\lib\\site-packages\\ipykernel_launcher.py:6: UserWarning: The `nb_epoch` argument in `fit` has been renamed `epochs`.\n",
      "  \n"
     ]
    },
    {
     "name": "stdout",
     "output_type": "stream",
     "text": [
      "Train on 1778 samples, validate on 198 samples\n",
      "Epoch 1/65\n",
      "1778/1778 [==============================] - 4s 2ms/step - loss: 1.0698 - acc: 0.0000e+00 - val_loss: 2.4263 - val_acc: 0.0000e+00\n",
      "Epoch 2/65\n",
      "1778/1778 [==============================] - 0s 136us/step - loss: 0.4047 - acc: 0.0000e+00 - val_loss: 0.4938 - val_acc: 0.0000e+00\n",
      "Epoch 3/65\n",
      "1778/1778 [==============================] - 0s 156us/step - loss: 0.0559 - acc: 0.0000e+00 - val_loss: 0.1919 - val_acc: 0.0000e+00\n",
      "Epoch 4/65\n",
      "1778/1778 [==============================] - 0s 169us/step - loss: 0.0340 - acc: 0.0000e+00 - val_loss: 0.0469 - val_acc: 0.0000e+00\n",
      "Epoch 5/65\n",
      "1778/1778 [==============================] - 0s 166us/step - loss: 0.0248 - acc: 0.0000e+00 - val_loss: 0.0312 - val_acc: 0.0000e+00\n",
      "Epoch 6/65\n",
      "1778/1778 [==============================] - 0s 156us/step - loss: 0.0238 - acc: 0.0000e+00 - val_loss: 0.0195 - val_acc: 0.0000e+00\n",
      "Epoch 7/65\n",
      "1778/1778 [==============================] - 0s 141us/step - loss: 0.0228 - acc: 0.0000e+00 - val_loss: 0.0173 - val_acc: 0.0000e+00\n",
      "Epoch 8/65\n",
      "1778/1778 [==============================] - 0s 187us/step - loss: 0.0229 - acc: 0.0000e+00 - val_loss: 0.0113 - val_acc: 0.0000e+00\n",
      "Epoch 9/65\n",
      "1778/1778 [==============================] - 0s 149us/step - loss: 0.0204 - acc: 0.0000e+00 - val_loss: 0.0103 - val_acc: 0.0000e+00\n",
      "Epoch 10/65\n",
      "1778/1778 [==============================] - 0s 149us/step - loss: 0.0199 - acc: 0.0000e+00 - val_loss: 0.0087 - val_acc: 0.0000e+00\n",
      "Epoch 11/65\n",
      "1778/1778 [==============================] - 0s 211us/step - loss: 0.0200 - acc: 0.0000e+00 - val_loss: 0.0168 - val_acc: 0.0000e+00\n",
      "Epoch 12/65\n",
      "1778/1778 [==============================] - 0s 148us/step - loss: 0.0177 - acc: 0.0000e+00 - val_loss: 0.0073 - val_acc: 0.0000e+00\n",
      "Epoch 13/65\n",
      "1778/1778 [==============================] - 0s 159us/step - loss: 0.0186 - acc: 0.0000e+00 - val_loss: 0.0063 - val_acc: 0.0000e+00\n",
      "Epoch 14/65\n",
      "1778/1778 [==============================] - 0s 153us/step - loss: 0.0164 - acc: 0.0000e+00 - val_loss: 0.0072 - val_acc: 0.0000e+00\n",
      "Epoch 15/65\n",
      "1778/1778 [==============================] - 0s 189us/step - loss: 0.0176 - acc: 0.0000e+00 - val_loss: 0.0096 - val_acc: 0.0000e+00\n",
      "Epoch 16/65\n",
      "1778/1778 [==============================] - 0s 217us/step - loss: 0.0177 - acc: 0.0000e+00 - val_loss: 0.0068 - val_acc: 0.0000e+00\n",
      "Epoch 17/65\n",
      "1778/1778 [==============================] - 0s 169us/step - loss: 0.0159 - acc: 0.0000e+00 - val_loss: 0.0059 - val_acc: 0.0000e+00\n",
      "Epoch 18/65\n",
      "1778/1778 [==============================] - 0s 187us/step - loss: 0.0159 - acc: 0.0000e+00 - val_loss: 0.0054 - val_acc: 0.0000e+00\n",
      "Epoch 19/65\n",
      "1778/1778 [==============================] - 0s 160us/step - loss: 0.0162 - acc: 0.0000e+00 - val_loss: 0.0052 - val_acc: 0.0000e+00\n",
      "Epoch 20/65\n",
      "1778/1778 [==============================] - 0s 169us/step - loss: 0.0137 - acc: 0.0000e+00 - val_loss: 0.0042 - val_acc: 0.0000e+00\n",
      "Epoch 21/65\n",
      "1778/1778 [==============================] - 0s 168us/step - loss: 0.0148 - acc: 0.0000e+00 - val_loss: 0.0049 - val_acc: 0.0000e+00\n",
      "Epoch 22/65\n",
      "1778/1778 [==============================] - 0s 168us/step - loss: 0.0135 - acc: 0.0000e+00 - val_loss: 0.0052 - val_acc: 0.0000e+00\n",
      "Epoch 23/65\n",
      "1778/1778 [==============================] - 0s 162us/step - loss: 0.0146 - acc: 0.0000e+00 - val_loss: 0.0035 - val_acc: 0.0000e+00\n",
      "Epoch 24/65\n",
      "1778/1778 [==============================] - 0s 170us/step - loss: 0.0130 - acc: 0.0000e+00 - val_loss: 0.0032 - val_acc: 0.0000e+00\n",
      "Epoch 25/65\n",
      "1778/1778 [==============================] - 0s 172us/step - loss: 0.0135 - acc: 0.0000e+00 - val_loss: 0.0038 - val_acc: 0.0000e+00\n",
      "Epoch 26/65\n",
      "1778/1778 [==============================] - 0s 172us/step - loss: 0.0134 - acc: 0.0000e+00 - val_loss: 0.0032 - val_acc: 0.0000e+00\n",
      "Epoch 27/65\n",
      "1778/1778 [==============================] - 0s 175us/step - loss: 0.0140 - acc: 0.0000e+00 - val_loss: 0.0044 - val_acc: 0.0000e+00\n",
      "Epoch 28/65\n",
      "1778/1778 [==============================] - 0s 158us/step - loss: 0.0124 - acc: 0.0000e+00 - val_loss: 0.0028 - val_acc: 0.0000e+00\n",
      "Epoch 29/65\n",
      "1778/1778 [==============================] - 0s 183us/step - loss: 0.0110 - acc: 0.0000e+00 - val_loss: 0.0034 - val_acc: 0.0000e+00\n",
      "Epoch 30/65\n",
      "1778/1778 [==============================] - 0s 145us/step - loss: 0.0125 - acc: 0.0000e+00 - val_loss: 0.0022 - val_acc: 0.0000e+00\n",
      "Epoch 31/65\n",
      "1778/1778 [==============================] - 0s 196us/step - loss: 0.0114 - acc: 0.0000e+00 - val_loss: 0.0021 - val_acc: 0.0000e+00\n",
      "Epoch 32/65\n",
      "1778/1778 [==============================] - 0s 140us/step - loss: 0.0110 - acc: 0.0000e+00 - val_loss: 0.0026 - val_acc: 0.0000e+00\n",
      "Epoch 33/65\n",
      "1778/1778 [==============================] - 0s 205us/step - loss: 0.0110 - acc: 0.0000e+00 - val_loss: 0.0036 - val_acc: 0.0000e+00\n",
      "Epoch 34/65\n",
      "1778/1778 [==============================] - 0s 155us/step - loss: 0.0119 - acc: 0.0000e+00 - val_loss: 0.0022 - val_acc: 0.0000e+00\n",
      "Epoch 35/65\n",
      "1778/1778 [==============================] - 0s 144us/step - loss: 0.0124 - acc: 0.0000e+00 - val_loss: 0.0061 - val_acc: 0.0000e+00\n",
      "Epoch 36/65\n",
      "1778/1778 [==============================] - 0s 141us/step - loss: 0.0112 - acc: 0.0000e+00 - val_loss: 0.0014 - val_acc: 0.0000e+00\n",
      "Epoch 37/65\n",
      "1778/1778 [==============================] - 0s 167us/step - loss: 0.0107 - acc: 0.0000e+00 - val_loss: 0.0027 - val_acc: 0.0000e+00\n",
      "Epoch 38/65\n",
      "1778/1778 [==============================] - 0s 203us/step - loss: 0.0117 - acc: 0.0000e+00 - val_loss: 0.0016 - val_acc: 0.0000e+00\n",
      "Epoch 39/65\n",
      "1778/1778 [==============================] - 0s 141us/step - loss: 0.0116 - acc: 0.0000e+00 - val_loss: 0.0021 - val_acc: 0.0000e+00\n",
      "Epoch 40/65\n",
      "1778/1778 [==============================] - 0s 149us/step - loss: 0.0104 - acc: 0.0000e+00 - val_loss: 0.0066 - val_acc: 0.0000e+00\n",
      "Epoch 41/65\n",
      "1778/1778 [==============================] - 0s 211us/step - loss: 0.0106 - acc: 0.0000e+00 - val_loss: 0.0028 - val_acc: 0.0000e+00\n",
      "Epoch 42/65\n",
      "1778/1778 [==============================] - 0s 163us/step - loss: 0.0102 - acc: 0.0000e+00 - val_loss: 0.0019 - val_acc: 0.0000e+00\n",
      "Epoch 43/65\n",
      "1778/1778 [==============================] - 0s 149us/step - loss: 0.0106 - acc: 0.0000e+00 - val_loss: 0.0021 - val_acc: 0.0000e+00\n",
      "Epoch 44/65\n",
      "1778/1778 [==============================] - 1s 407us/step - loss: 0.0104 - acc: 0.0000e+00 - val_loss: 0.0015 - val_acc: 0.0000e+00\n",
      "Epoch 45/65\n",
      "1778/1778 [==============================] - 1s 726us/step - loss: 0.0102 - acc: 0.0000e+00 - val_loss: 0.0023 - val_acc: 0.0000e+00\n",
      "Epoch 46/65\n",
      "1778/1778 [==============================] - 0s 154us/step - loss: 0.0103 - acc: 0.0000e+00 - val_loss: 0.0018 - val_acc: 0.0000e+00\n",
      "Epoch 47/65\n",
      "1778/1778 [==============================] - 0s 191us/step - loss: 0.0108 - acc: 0.0000e+00 - val_loss: 0.0036 - val_acc: 0.0000e+00\n",
      "Epoch 48/65\n",
      "1778/1778 [==============================] - 0s 196us/step - loss: 0.0103 - acc: 0.0000e+00 - val_loss: 0.0021 - val_acc: 0.0000e+00\n",
      "Epoch 49/65\n",
      "1778/1778 [==============================] - 0s 164us/step - loss: 0.0096 - acc: 0.0000e+00 - val_loss: 0.0054 - val_acc: 0.0000e+00\n",
      "Epoch 50/65\n",
      "1778/1778 [==============================] - 0s 177us/step - loss: 0.0093 - acc: 0.0000e+00 - val_loss: 0.0046 - val_acc: 0.0000e+00\n",
      "Epoch 51/65\n",
      "1778/1778 [==============================] - 0s 190us/step - loss: 0.0101 - acc: 0.0000e+00 - val_loss: 0.0019 - val_acc: 0.0000e+00\n",
      "Epoch 52/65\n",
      "1778/1778 [==============================] - 0s 137us/step - loss: 0.0096 - acc: 0.0000e+00 - val_loss: 0.0016 - val_acc: 0.0000e+00\n",
      "Epoch 53/65\n",
      "1778/1778 [==============================] - 0s 150us/step - loss: 0.0099 - acc: 0.0000e+00 - val_loss: 0.0026 - val_acc: 0.0000e+00\n",
      "Epoch 54/65\n",
      "1778/1778 [==============================] - 0s 149us/step - loss: 0.0088 - acc: 0.0000e+00 - val_loss: 0.0019 - val_acc: 0.0000e+00\n",
      "Epoch 55/65\n",
      "1778/1778 [==============================] - 0s 141us/step - loss: 0.0094 - acc: 0.0000e+00 - val_loss: 0.0021 - val_acc: 0.0000e+00\n",
      "Epoch 56/65\n",
      "1778/1778 [==============================] - 0s 141us/step - loss: 0.0097 - acc: 0.0000e+00 - val_loss: 0.0026 - val_acc: 0.0000e+00\n",
      "Epoch 57/65\n"
     ]
    },
    {
     "name": "stdout",
     "output_type": "stream",
     "text": [
      "1778/1778 [==============================] - 0s 149us/step - loss: 0.0114 - acc: 0.0000e+00 - val_loss: 0.0021 - val_acc: 0.0000e+00\n",
      "Epoch 58/65\n",
      "1778/1778 [==============================] - 0s 141us/step - loss: 0.0104 - acc: 0.0000e+00 - val_loss: 0.0024 - val_acc: 0.0000e+00\n",
      "Epoch 59/65\n",
      "1778/1778 [==============================] - 0s 141us/step - loss: 0.0091 - acc: 0.0000e+00 - val_loss: 0.0015 - val_acc: 0.0000e+00\n",
      "Epoch 60/65\n",
      "1778/1778 [==============================] - 0s 149us/step - loss: 0.0096 - acc: 0.0000e+00 - val_loss: 0.0044 - val_acc: 0.0000e+00\n",
      "Epoch 61/65\n",
      "1778/1778 [==============================] - 0s 141us/step - loss: 0.0086 - acc: 0.0000e+00 - val_loss: 0.0016 - val_acc: 0.0000e+00\n",
      "Epoch 62/65\n",
      "1778/1778 [==============================] - 0s 149us/step - loss: 0.0091 - acc: 0.0000e+00 - val_loss: 0.0020 - val_acc: 0.0000e+00\n",
      "Epoch 63/65\n",
      "1778/1778 [==============================] - 0s 141us/step - loss: 0.0092 - acc: 0.0000e+00 - val_loss: 0.0035 - val_acc: 0.0000e+00\n",
      "Epoch 64/65\n",
      "1778/1778 [==============================] - 0s 154us/step - loss: 0.0082 - acc: 0.0000e+00 - val_loss: 0.0014 - val_acc: 0.0000e+00\n",
      "Epoch 65/65\n",
      "1778/1778 [==============================] - 0s 144us/step - loss: 0.0083 - acc: 0.0000e+00 - val_loss: 0.0016 - val_acc: 0.0000e+00\n"
     ]
    },
    {
     "data": {
      "text/plain": [
       "<keras.callbacks.History at 0x160c8024278>"
      ]
     },
     "execution_count": 82,
     "metadata": {},
     "output_type": "execute_result"
    }
   ],
   "source": [
    "model.fit(\n",
    "    X_train,\n",
    "    y_train,\n",
    "    batch_size=64,\n",
    "    nb_epoch=65,\n",
    "    validation_split=0.1)"
   ]
  },
  {
   "cell_type": "code",
   "execution_count": 83,
   "metadata": {
    "scrolled": false
   },
   "outputs": [
    {
     "name": "stdout",
     "output_type": "stream",
     "text": [
      "[6002.288, 5929.962, 5841.03, 5787.959, 5810.6636, 5704.5244, 5609.5854, 5581.585, 5623.9595, 5585.5557, 5646.33, 5679.7593, 5710.6367, 5620.278, 5605.489, 5581.032, 5570.362, 5458.978, 5455.328, 5491.483, 5392.2793, 5347.6167, 5291.0938, 5262.24, 5257.44, 5295.0146, 5410.716, 5422.849, 5385.1206, 5495.3154, 5445.9893, 5538.6387, 5540.363, 5539.373, 5403.993, 5355.929, 5338.8403, 5453.388, 5438.377, 5476.592, 5425.2573, 5485.9814, 5509.4565, 5571.7446, 5532.479, 5584.8003, 5454.639, 5485.2173, 5433.913, 5411.8955, 5372.4414, 5396.1533, 5450.1855, 5498.833, 5550.1807, 5617.088, 5640.294, 5721.3926, 5804.4053, 5832.213, 5898.62, 5905.074, 5900.114, 5871.6587, 5845.816, 5800.6313, 5860.2637, 5792.721, 5737.55, 5708.274, 5764.4536, 5783.1084, 5782.1514, 5806.2803, 5804.6265, 5724.567, 5739.4575, 5740.818, 5647.3364, 5568.1064, 5475.0444, 5509.607, 5482.729, 5466.0366, 5492.2646, 5434.495, 5481.6147, 5496.789, 5461.143, 5477.2817, 5436.074, 5467.2354, 5396.499, 5383.8784, 5373.8203, 5384.6035, 5438.1235, 5454.656, 5530.056, 5557.79, 5517.7993, 5540.016, 5565.5215, 5605.644, 5562.515, 5540.095, 5518.9077, 5480.483, 5469.7554, 5443.7583, 5417.484, 5382.1445, 5292.584, 5289.1724, 5271.9634, 5303.9453, 5385.3833, 5415.297, 5462.4453, 5531.9614, 5593.104, 5641.9253, 5677.046, 5693.1035, 5691.426, 5716.2026, 5661.0386, 5637.8906, 5561.617, 5577.892, 5586.2373, 5558.5156, 5554.8647, 5589.569, 5505.9116, 5511.869, 5594.715, 5665.144, 5577.881, 5550.7734, 5516.201, 5511.9844, 5504.5312, 5479.467, 5452.1416, 5341.0195, 5234.2725, 5176.901, 5117.8906, 5150.6606, 5103.745, 5014.3633, 4982.4233, 4989.048, 4916.527, 4878.855, 4929.4883, 4959.3076, 4854.424, 4816.4307, 4768.505, 4866.567, 4903.183, 4978.948, 5031.709, 5053.5605, 5080.8374, 5149.9746, 5124.857, 5116.3677, 5029.988, 5044.94, 5067.1606, 5076.3833, 5025.799, 5078.7964, 5060.374, 4967.752, 4971.3154, 4941.311, 4981.3716, 4918.376, 4959.7446, 4922.968, 4816.556, 4753.3604, 4797.403, 4889.6777, 4971.6665, 4903.294, 5017.9263, 4977.386, 5076.1, 5124.4053, 5136.5806, 5230.956, 5167.2754, 5095.462, 5134.777, 5161.519, 5176.6196, 5268.506, 5275.0054, 5292.8623, 5270.5625, 5312.5537, 5346.261, 5349.4116, 5263.8535, 5230.3804, 5130.7896, 5079.1665, 5071.021, 4978.651, 4938.698, 4804.0664, 4783.157, 4717.184, 4731.0557, 4671.0444, 4761.567, 4729.0024, 4782.076, 4843.4585, 4992.956, 4995.0664, 5078.7163, 5006.5996, 4993.7114, 4863.835, 4901.637, 4846.5107, 4790.3647, 4662.778, 4623.4707, 4506.8516, 4635.183, 4679.676, 4695.2314, 4725.891, 4719.949, 4701.964, 4700.432, 4700.6226, 4740.574, 4756.3877, 4729.7207, 4740.228, 4723.699, 4726.5347, 4753.219, 4848.159, 4873.476, 4864.9717, 4847.19, 4875.4097, 4945.053, 4948.5444, 5019.135, 5063.153, 5037.9126, 5108.695, 5163.8696, 5209.2437, 5150.701, 5207.1025, 5257.929, 5271.8784, 5319.579, 5361.202, 5329.0146, 5362.643, 5392.8374, 5437.951, 5414.997, 5433.3213, 5507.8506, 5499.3267, 5517.687, 5580.7627, 5520.1445, 5500.399, 5484.877, 5387.517, 5427.6733, 5364.7974, 5336.1924, 5314.6284, 5278.0522, 5257.636, 5211.477, 5221.9097, 5347.7314, 5315.84, 5366.761, 5409.7437, 5359.2065, 5323.1836, 5317.666, 5356.0713, 5414.1235, 5272.807, 5287.591, 5179.0425, 5191.1504, 5179.197, 5189.4644, 5284.9937, 5295.387, 5279.0903, 5327.6, 5247.2456, 5303.745, 5261.546, 5315.6978, 5271.96, 5238.6, 5265.0874, 5241.4766, 5292.671, 5305.4224, 5239.287, 5265.3823, 5220.4, 5232.407, 5224.627, 5204.1714, 5222.1943, 5191.4644, 5171.9937, 5133.717, 5140.611, 5055.254, 5026.05, 4993.517, 4939.8237, 4881.737, 4888.723, 4831.252, 4851.8496, 4844.1313, 4881.678, 4852.34, 4839.0923, 4903.487, 4912.2153, 4947.8604, 4982.92, 4958.719, 4945.2495, 4876.1763, 4904.221, 4909.176, 4965.9053, 5011.706, 5007.8296, 4997.7197, 5080.6904, 5108.3066, 5114.532, 5193.77, 5148.8687, 5135.881, 5128.2026, 5164.5586, 5165.007, 5111.5054, 5119.845, 5164.6196, 5142.515, 5269.481, 5256.838, 5271.8037, 5280.359, 5322.599, 5344.0586, 5324.03, 5377.7744, 5349.5957, 5254.315, 5244.1055, 5213.569, 5198.0728, 5206.2163, 5212.0786, 5199.373, 5103.032, 5120.6597, 5129.1484, 5065.6567, 5101.411, 5170.8975, 5182.747, 5182.871, 5194.4517, 5236.589, 5276.966, 5335.292, 5370.9634, 5358.2783, 5339.161, 5356.0825, 5380.758, 5373.6284, 5395.7817, 5423.694, 5398.803, 5405.9014, 5403.397, 5375.4683, 5358.333, 5303.269, 5331.3477, 5283.621, 5244.4907, 5263.911, 5208.508, 5220.9224, 5303.6616, 5320.042, 5346.304, 5364.872, 5423.971, 5434.366, 5532.108, 5588.7407, 5608.14, 5566.7036, 5661.0635, 5662.3667, 5682.5737, 5686.775, 5681.8438, 5671.8613, 5686.753, 5701.117, 5765.0825, 5684.9624, 5663.204, 5684.112, 5650.714, 5699.231, 5648.957, 5657.7886, 5613.261, 5596.7773, 5651.5645, 5657.3975, 5673.907, 5673.9487, 5666.6807, 5648.121, 5643.7524, 5610.882, 5627.2715, 5615.0923, 5653.056, 5650.462, 5676.0947, 5695.539, 5710.899, 5672.101, 5702.795, 5681.3833, 5655.555, 5586.697, 5579.4233, 5557.7573, 5567.3633, 5570.77, 5592.423, 5591.9395, 5661.579, 5740.355, 5810.6616, 5819.973, 5861.2686, 5862.3457, 5903.8154, 5902.2236, 5922.1924, 5889.941, 5853.1807, 5810.622, 5840.194, 5810.233, 5836.867, 5847.629, 5850.3457, 5801.1, 5811.772, 5850.3423, 5836.8037, 5857.645]\n",
      "[6048.25, 5904.6, 5762.85, 5754.1, 5863.25, 5751.9, 5654.55, 5654.75, 5724.05, 5691.05, 5711.6, 5696.5, 5743.25, 5687.4, 5604.3, 5512.15, 5505.9, 5417.2, 5432.0, 5526.75, 5395.75, 5396.0, 5312.55, 5253.55, 5225.8, 5310.0, 5456.0, 5481.0, 5481.7, 5546.45, 5458.95, 5518.6, 5469.2, 5437.35, 5262.7, 5303.55, 5333.25, 5522.3, 5536.2, 5538.75, 5463.15, 5520.8, 5531.0, 5494.4, 5445.45, 5531.5, 5449.65, 5511.15, 5446.65, 5373.7, 5364.75, 5413.85, 5480.25, 5522.4, 5654.25, 5687.25, 5736.35, 5787.65, 5833.75, 5826.05, 5908.45, 5910.05, 5891.75, 5885.7, 5842.0, 5785.7, 5911.5, 5824.55, 5729.1, 5740.75, 5851.65, 5884.7, 5874.5, 5868.4, 5833.9, 5785.45, 5749.5, 5701.3, 5565.25, 5537.15, 5459.85, 5551.45, 5551.1, 5541.25, 5565.05, 5486.15, 5544.75, 5499.0, 5438.95, 5420.6, 5428.1, 5486.35, 5386.55, 5394.85, 5348.95, 5412.35, 5476.1, 5473.1, 5560.15, 5592.0, 5550.35, 5516.75, 5532.05, 5556.15, 5526.85, 5521.05, 5485.8, 5482.8, 5500.5, 5447.5, 5396.75, 5366.4, 5257.9, 5275.85, 5278.3, 5320.0, 5471.25, 5526.6, 5545.3, 5600.45, 5647.4, 5627.2, 5650.5, 5632.1, 5625.45, 5728.95, 5660.65, 5616.1, 5526.15, 5585.45, 5599.8, 5581.1, 5567.05, 5613.55, 5567.05, 5541.6, 5633.95, 5680.3, 5574.85, 5546.8, 5487.75, 5482.0, 5516.8, 5456.55, 5404.8, 5331.8, 5211.25, 5118.5, 5072.85, 5161.0, 5138.3, 5072.95, 5035.8, 5056.6, 4944.15, 4845.65, 4898.8, 4948.9, 4888.9, 4839.6, 4747.8, 4919.6, 5001.0, 5040.0, 5017.2, 5064.3, 5124.65, 5153.25, 5059.45, 4946.8, 4940.95, 5012.55, 5075.7, 5084.25, 5031.95, 5140.2, 5133.25, 4923.65, 4867.75, 4835.4, 4971.25, 4945.9, 5015.45, 4943.25, 4849.5, 4772.15, 4751.3, 4888.05, 4979.6, 4974.35, 5099.4, 5077.85, 5132.3, 5118.25, 5037.5, 5139.15, 5091.9, 5049.95, 5098.35, 5191.6, 5201.8, 5360.7, 5326.6, 5257.95, 5258.45, 5265.75, 5284.2, 5289.35, 5221.05, 5168.85, 5148.35, 5068.5, 5030.45, 4934.75, 4905.8, 4778.35, 4812.35, 4706.45, 4756.45, 4710.05, 4851.3, 4805.1, 4832.05, 4936.85, 5050.15, 5039.15, 5062.6, 4943.65, 4866.7, 4764.6, 4800.6, 4763.25, 4746.35, 4651.6, 4613.1, 4544.2, 4693.15, 4733.85, 4714.0, 4779.0, 4750.5, 4705.8, 4646.25, 4624.3, 4636.75, 4765.3, 4749.65, 4749.95, 4754.1, 4746.9, 4742.8, 4849.55, 4860.95, 4831.25, 4866.0, 4873.9, 4967.3, 4955.8, 5018.4, 5048.6, 5046.25, 5127.35, 5158.3, 5204.7, 5087.3, 5199.25, 5235.7, 5269.9, 5325.85, 5361.65, 5335.15, 5368.15, 5412.35, 5381.6, 5390.2, 5416.05, 5531.95, 5521.95, 5564.3, 5607.15, 5505.35, 5483.3, 5429.3, 5281.2, 5375.5, 5385.2, 5339.75, 5359.35, 5359.4, 5280.35, 5222.4, 5220.45, 5333.55, 5359.55, 5429.5, 5463.9, 5380.5, 5317.9, 5257.05, 5274.85, 5364.95, 5228.45, 5278.2, 5184.25, 5243.15, 5194.75, 5178.85, 5295.55, 5317.9, 5358.5, 5322.9, 5234.4, 5243.6, 5226.85, 5276.85, 5207.45, 5226.2, 5289.7, 5300.0, 5332.4, 5290.85, 5200.6, 5222.65, 5202.0, 5189.0, 5190.6, 5209.0, 5248.15, 5239.15, 5188.4, 5086.85, 5114.15, 4999.95, 4974.8, 4965.7, 4928.9, 4907.8, 4942.8, 4858.25, 4870.2, 4891.45, 4906.05, 4860.5, 4835.65, 4921.4, 4920.4, 4985.65, 4990.1, 4950.75, 4924.25, 4841.6, 4848.15, 4863.3, 4997.1, 5049.65, 5068.35, 5054.1, 5115.9, 5121.45, 5054.75, 5139.05, 5064.25, 5103.85, 5120.55, 5165.0, 5146.05, 5114.65, 5120.8, 5141.9, 5149.15, 5278.9, 5278.6, 5287.95, 5302.55, 5327.3, 5316.95, 5275.15, 5345.35, 5306.3, 5235.25, 5227.25, 5197.25, 5192.85, 5216.3, 5242.7, 5205.1, 5117.95, 5128.2, 5109.6, 5043.0, 5099.85, 5199.8, 5229.0, 5240.5, 5227.75, 5215.7, 5282.55, 5336.7, 5338.0, 5322.95, 5320.4, 5347.9, 5380.35, 5362.95, 5366.3, 5421.0, 5412.85, 5415.35, 5386.7, 5350.25, 5334.6, 5287.8, 5315.05, 5258.5, 5253.75, 5274.0, 5225.7, 5238.4, 5342.1, 5358.7, 5363.45, 5390.0, 5431.0, 5435.35, 5577.65, 5610.0, 5600.05, 5554.25, 5691.15, 5669.6, 5673.9, 5663.45, 5649.5, 5703.3, 5718.8, 5731.25, 5787.6, 5746.95, 5676.0, 5704.6, 5652.15, 5708.05, 5676.05, 5687.25, 5648.0, 5660.25, 5718.7, 5684.25, 5717.15, 5691.4, 5705.3, 5664.3, 5665.6, 5597.9, 5619.7, 5645.05, 5697.7, 5704.2, 5724.4, 5760.1, 5738.75, 5686.25, 5683.7, 5666.95, 5631.0, 5574.05, 5571.4, 5571.55, 5614.8, 5627.75, 5626.6, 5635.9, 5727.45, 5825.0, 5879.85, 5870.95, 5889.25, 5900.5, 5930.9, 5907.4, 5908.9, 5898.8, 5888.0, 5851.5, 5879.6, 5857.9, 5896.8, 5929.6, 5916.4, 5847.7, 5855.75, 5905.6, 5870.1, 5908.35]\n"
     ]
    }
   ],
   "source": [
    "# print(X_test, y_test)\n",
    "trainPredict = model.predict(X_test, batch_size=10)\n",
    "trainPredict = scaler.inverse_transform(trainPredict)\n",
    "y_test = scaler.inverse_transform(y_test)\n",
    "new_predict =[]\n",
    "new_y_test =[]\n",
    "for i in range(0,len(trainPredict)):\n",
    "    new_predict.append(trainPredict[i][0])\n",
    "for i in range(0,len(y_test)):\n",
    "    new_y_test.append(y_test[i][0])\n",
    "print(new_predict)\n",
    "print(new_y_test)"
   ]
  },
  {
   "cell_type": "code",
   "execution_count": 84,
   "metadata": {},
   "outputs": [],
   "source": [
    "def error_function(test_y, predicted_y):\n",
    "    import numpy as np\n",
    "    from math import sqrt\n",
    "    test = list(test_y)\n",
    "    #print (test[1]-predicted_y[1])\n",
    "    MAPE=[(test[i]-predicted_y[i])/test[i] for i in range(len(test))]\n",
    "    MAPE1=abs((sum(MAPE)*100/len(test)))\n",
    "    MAE=abs((sum(MAPE)/len(test)))\n",
    "    rRMSE=[((test[i]-predicted_y[i])/test[i])**2 for i in range(len(test))]\n",
    "    rRMSE=sqrt(sum(rRMSE)/len(test))\n",
    "    MSE=[(test[i]-predicted_y[i])**2 for i in range(len(test))]\n",
    "    MSE=sum(MSE)/len(test)\n",
    "    #print(MSE)\n",
    "    return MAPE1,MAE,rRMSE,MSE"
   ]
  },
  {
   "cell_type": "code",
   "execution_count": 85,
   "metadata": {},
   "outputs": [
    {
     "name": "stdout",
     "output_type": "stream",
     "text": [
      "(0.10208167904518302, 0.0010208167904518302, 0.008393912837772055, 1970.3741351724152)\n"
     ]
    }
   ],
   "source": [
    "print(error_function( new_y_test,new_predict))"
   ]
  },
  {
   "cell_type": "code",
   "execution_count": 86,
   "metadata": {},
   "outputs": [],
   "source": [
    "p = model.predict(X_test)\n",
    "p = scaler.inverse_transform(p)\n",
    "#print(p)"
   ]
  },
  {
   "cell_type": "code",
   "execution_count": 87,
   "metadata": {},
   "outputs": [],
   "source": [
    "param_test = scaler.inverse_transform(param_test)\n",
    "result_test = our_result\n",
    "\n",
    "#print (param_test)\n",
    "#print (result_test)"
   ]
  },
  {
   "cell_type": "code",
   "execution_count": 88,
   "metadata": {
    "scrolled": true
   },
   "outputs": [
    {
     "data": {
      "image/png": "[encoded data removed]",
      "text/plain": [
       "<Figure size 432x288 with 1 Axes>"
      ]
     },
     "metadata": {
      "needs_background": "light"
     },
     "output_type": "display_data"
    }
   ],
   "source": [
    "import matplotlib.pyplot as plt2\n",
    "\n",
    "plt2.plot(new_y_test,color='red', label='y_test',linewidth='1.0')\n",
    "plt2.plot(new_predict,color='blue', label='prediction',linewidth='0.7')\n",
    "plt2.legend(loc='upper left')\n",
    "plt2.show()"
   ]
  },
  {
   "cell_type": "code",
   "execution_count": null,
   "metadata": {},
   "outputs": [],
   "source": []
  },
  {
   "cell_type": "code",
   "execution_count": null,
   "metadata": {},
   "outputs": [],
   "source": []
  },
  {
   "cell_type": "code",
   "execution_count": null,
   "metadata": {},
   "outputs": [],
   "source": []
  },
  {
   "cell_type": "code",
   "execution_count": null,
   "metadata": {},
   "outputs": [],
   "source": []
  }
 ],
 "metadata": {
  "kernelspec": {
   "display_name": "Python 3",
   "language": "python",
   "name": "python3"
  },
  "language_info": {
   "codemirror_mode": {
    "name": "ipython",
    "version": 3
   },
   "file_extension": ".py",
   "mimetype": "text/x-python",
   "name": "python",
   "nbconvert_exporter": "python",
   "pygments_lexer": "ipython3",
   "version": "3.6.3"
  }
 },
 "nbformat": 4,
 "nbformat_minor": 2
}
