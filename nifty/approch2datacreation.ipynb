{
 "cells": [
  {
   "cell_type": "code",
   "execution_count": 1,
   "metadata": {},
   "outputs": [],
   "source": [
    "from tensorflow.python.keras.models import Sequential\n",
    "from tensorflow.python.keras.layers import Dense, Activation\n",
    "import pandas as pd\n",
    "import numpy as np\n",
    "import csv"
   ]
  },
  {
   "cell_type": "code",
   "execution_count": 2,
   "metadata": {},
   "outputs": [],
   "source": [
    "data1 = pd.read_csv('paramdataset.csv', header=None)\n",
    "data2 = pd.read_csv('nifty.csv', header=None)"
   ]
  },
  {
   "cell_type": "code",
   "execution_count": 3,
   "metadata": {},
   "outputs": [],
   "source": [
    "train_x=data1.iloc[:2452,12]\n",
    "train_x=np.array(train_x).reshape(-1,1)\n",
    "train_y=data1.iloc[:2452,1]\n",
    "test_x=data1.iloc[2452:2455,12]\n",
    "test_x=list(test_x)\n",
    "test_x=np.array(test_x).reshape(-1,1)\n",
    "test_y=data1.iloc[2452:2455,1]"
   ]
  },
  {
   "cell_type": "code",
   "execution_count": 4,
   "metadata": {},
   "outputs": [],
   "source": [
    "def svr_model(train_x, train_y, test_x,y):\n",
    "    from sklearn.svm import SVR\n",
    "    import numpy as np\n",
    "\n",
    "    clf = SVR(C=1.0, epsilon=2.0, gamma=y,verbose=False)\n",
    "    clf.fit(train_x, train_y)\n",
    "    predicted_y = clf.predict(test_x)\n",
    "    print(predicted_y)\n",
    "    return predicted_y"
   ]
  },
  {
   "cell_type": "code",
   "execution_count": 5,
   "metadata": {},
   "outputs": [
    {
     "name": "stdout",
     "output_type": "stream",
     "text": [
      "[4308.85331136 4309.8925525  4312.68365228]\n",
      "[4308.85331136 4309.8925525  4312.68365228]\n",
      "2452    5726.910\n",
      "2453    5759.805\n",
      "2454    5791.415\n",
      "Name: 1, dtype: float64\n"
     ]
    }
   ],
   "source": [
    "predict_svr1=svr_model(train_x, train_y, test_x,2e-8)\n",
    "print(predict_svr1)\n",
    "print(test_y)"
   ]
  },
  {
   "cell_type": "code",
   "execution_count": 6,
   "metadata": {},
   "outputs": [],
   "source": [
    "train_x=data1.iloc[:2452,12]\n",
    "train_x=np.array(train_x).reshape(-1,1)\n",
    "train_y=data1.iloc[:2452,2]\n",
    "test_x=data1.iloc[2452:2455,12]\n",
    "#test_x=list(test_x)\n",
    "test_x=np.array(test_x).reshape(-1,1)\n",
    "test_y=data1.iloc[2452:2455,2]"
   ]
  },
  {
   "cell_type": "code",
   "execution_count": 7,
   "metadata": {},
   "outputs": [
    {
     "name": "stdout",
     "output_type": "stream",
     "text": [
      "[4310.82202207 4311.86237891 4314.65647892]\n",
      "[4310.82202207 4311.86237891 4314.65647892]\n",
      "2452    5786.906364\n",
      "2453    5818.468182\n",
      "2454    5849.576364\n",
      "Name: 2, dtype: float64\n"
     ]
    }
   ],
   "source": [
    "predict_svr2=svr_model(train_x, train_y, test_x,2e-8)\n",
    "print(predict_svr2)\n",
    "print(test_y)\n",
    "\n",
    "#print(p)"
   ]
  },
  {
   "cell_type": "code",
   "execution_count": 8,
   "metadata": {},
   "outputs": [],
   "source": [
    "predict_svr3=data1.iloc[2452:2455,3]"
   ]
  },
  {
   "cell_type": "code",
   "execution_count": 9,
   "metadata": {},
   "outputs": [],
   "source": [
    "train_x=data2.iloc[27:2479,2:5]\n",
    "train_y=data1.iloc[:2452,4]\n",
    "test_x=data2.iloc[2479:2482,2:5]\n",
    "test_y=data1.iloc[2452:2455,4]"
   ]
  },
  {
   "cell_type": "code",
   "execution_count": 10,
   "metadata": {},
   "outputs": [
    {
     "name": "stdout",
     "output_type": "stream",
     "text": [
      "[74.25210719 74.6085606  74.54644403]\n",
      "[74.25210719 74.6085606  74.54644403]\n",
      "2452    97.177879\n",
      "2453    95.145903\n",
      "2454    96.661891\n",
      "Name: 4, dtype: float64\n"
     ]
    }
   ],
   "source": [
    "predict_svr4=svr_model(train_x, train_y, test_x,100e-8)\n",
    "print(predict_svr4)\n",
    "print(test_y)"
   ]
  },
  {
   "cell_type": "code",
   "execution_count": 11,
   "metadata": {},
   "outputs": [],
   "source": [
    "train_x=data2.iloc[27:2479,2:5]\n",
    "train_y=data1.iloc[:2452,5]\n",
    "test_x=data2.iloc[2479:2482,2:5]\n",
    "test_y=data1.iloc[2452:2455,5]"
   ]
  },
  {
   "cell_type": "code",
   "execution_count": 12,
   "metadata": {},
   "outputs": [
    {
     "name": "stdout",
     "output_type": "stream",
     "text": [
      "[62.90123338 63.32519737 63.29222197]\n",
      "[62.90123338 63.32519737 63.29222197]\n",
      "2452    64.946212\n",
      "2453    73.447480\n",
      "2454    80.211289\n",
      "Name: 5, dtype: float64\n"
     ]
    }
   ],
   "source": [
    "predict_svr5=svr_model(train_x, train_y, test_x,100e-8)\n",
    "print(predict_svr5)\n",
    "print(test_y)"
   ]
  },
  {
   "cell_type": "code",
   "execution_count": 13,
   "metadata": {},
   "outputs": [],
   "source": [
    "train_x=data2.iloc[27:2452,5:7]\n",
    "train_y=data1.iloc[27:2452,7]\n",
    "test_x=data2.iloc[2452:2455,5:7]\n",
    "test_y=data1.iloc[2452:2455,7]"
   ]
  },
  {
   "cell_type": "code",
   "execution_count": 14,
   "metadata": {},
   "outputs": [
    {
     "name": "stdout",
     "output_type": "stream",
     "text": [
      "[-8.6973678  -8.9869565  -9.12633344]\n",
      "[-8.6973678  -8.9869565  -9.12633344]\n",
      "2452    41.224876\n",
      "2453    50.546478\n",
      "2454    58.448887\n",
      "Name: 7, dtype: float64\n"
     ]
    }
   ],
   "source": [
    "predict_svr7=svr_model(train_x, train_y, test_x,40e-8)\n",
    "print(predict_svr7)\n",
    "print(test_y)"
   ]
  },
  {
   "cell_type": "code",
   "execution_count": 15,
   "metadata": {},
   "outputs": [],
   "source": [
    "train_x=data1.iloc[:2452,3]\n",
    "train_x=np.array(train_x).reshape(-1,1)\n",
    "train_y=data1.iloc[:2452,5]\n",
    "test_x=data1.iloc[2452:2455,3]\n",
    "test_x=np.array(test_x).reshape(-1,1)\n",
    "test_y=data1.iloc[2452:2455,5]"
   ]
  },
  {
   "cell_type": "code",
   "execution_count": 16,
   "metadata": {},
   "outputs": [
    {
     "name": "stdout",
     "output_type": "stream",
     "text": [
      "[73.06595612 72.02237132 72.59239888]\n",
      "[73.06595612 72.02237132 72.59239888]\n",
      "2452    64.946212\n",
      "2453    73.447480\n",
      "2454    80.211289\n",
      "Name: 5, dtype: float64\n"
     ]
    }
   ],
   "source": [
    "predict_svr6=svr_model(train_x, train_y, test_x,10e-8)\n",
    "print(predict_svr6)\n",
    "print(test_y)"
   ]
  },
  {
   "cell_type": "code",
   "execution_count": 17,
   "metadata": {},
   "outputs": [],
   "source": [
    "train_x=data2.iloc[27:2479,2:5]\n",
    "train_y=data1.iloc[:2452,7]\n",
    "test_x=data2.iloc[2479:2482,2:5]\n",
    "test_y=data1.iloc[2452:2455,7]"
   ]
  },
  {
   "cell_type": "code",
   "execution_count": 18,
   "metadata": {},
   "outputs": [
    {
     "name": "stdout",
     "output_type": "stream",
     "text": [
      "[38.22248349 38.75534539 38.737319  ]\n",
      "[38.22248349 38.75534539 38.737319  ]\n",
      "2452    41.224876\n",
      "2453    50.546478\n",
      "2454    58.448887\n",
      "Name: 7, dtype: float64\n"
     ]
    }
   ],
   "source": [
    "predict_svr8=svr_model(train_x, train_y, test_x,10e-8)\n",
    "print(predict_svr8)\n",
    "print(test_y)"
   ]
  },
  {
   "cell_type": "code",
   "execution_count": 19,
   "metadata": {},
   "outputs": [],
   "source": [
    "predict_svr9=data1.iloc[2452:2455,9]"
   ]
  },
  {
   "cell_type": "code",
   "execution_count": 20,
   "metadata": {},
   "outputs": [],
   "source": [
    "predict_svr10=data1.iloc[2452:2455,10]"
   ]
  },
  {
   "cell_type": "code",
   "execution_count": 21,
   "metadata": {},
   "outputs": [
    {
     "name": "stdout",
     "output_type": "stream",
     "text": [
      "2452    87.661825\n",
      "2453    80.938888\n",
      "2454    67.359995\n",
      "Name: 10, dtype: float64\n"
     ]
    }
   ],
   "source": [
    "print(predict_svr10)\n",
    "p = pd.DataFrame(\n",
    "    {'A': predict_svr1,\n",
    "     'B': predict_svr2,\n",
    "     'C': predict_svr3,\n",
    "     'E': predict_svr4,\n",
    "     'F': predict_svr5,\n",
    "     'G': predict_svr6,\n",
    "     'H': predict_svr7,\n",
    "     'I': predict_svr8,\n",
    "     'J': predict_svr9,\n",
    "     'K': predict_svr10,\n",
    "    })\n",
    "p.to_csv('testdata.csv', sep=',')"
   ]
  },
  {
   "cell_type": "code",
   "execution_count": null,
   "metadata": {},
   "outputs": [],
   "source": []
  },
  {
   "cell_type": "code",
   "execution_count": null,
   "metadata": {},
   "outputs": [],
   "source": []
  }
 ],
 "metadata": {
  "kernelspec": {
   "display_name": "Python 3",
   "language": "python",
   "name": "python3"
  },
  "language_info": {
   "codemirror_mode": {
    "name": "ipython",
    "version": 3
   },
   "file_extension": ".py",
   "mimetype": "text/x-python",
   "name": "python",
   "nbconvert_exporter": "python",
   "pygments_lexer": "ipython3",
   "version": "3.6.3"
  }
 },
 "nbformat": 4,
 "nbformat_minor": 2
}
